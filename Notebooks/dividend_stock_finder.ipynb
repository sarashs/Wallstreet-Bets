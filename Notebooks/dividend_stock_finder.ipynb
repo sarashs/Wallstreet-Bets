{
 "cells": [
  {
   "cell_type": "code",
   "execution_count": 1,
   "id": "67aef36c-01ec-4d40-825c-72a6714b6710",
   "metadata": {},
   "outputs": [],
   "source": [
    "# getting all of the stocks in the US\n",
    "import investpy\n",
    "import yfinance as yf\n",
    "import pandas as pd\n",
    "import pytz\n",
    "\n"
   ]
  },
  {
   "cell_type": "code",
   "execution_count": 2,
   "id": "1c4127e6-1051-42f9-811b-973eee081e04",
   "metadata": {},
   "outputs": [],
   "source": [
    "# Get list of all stocks in the US\n",
    "stocks = investpy.stocks.get_stocks(country='united states')\n",
    "russel = pd.read_csv(\"russel1000.csv\")\n",
    "russel_tick = russel['Ticker'].to_list()\n"
   ]
  },
  {
   "cell_type": "code",
   "execution_count": null,
   "id": "7d3beb2e-1616-45d2-b92f-84a5c2cdab36",
   "metadata": {},
   "outputs": [
    {
     "name": "stderr",
     "output_type": "stream",
     "text": [
      "AACBR: Period 'max' is invalid, must be of the format 1d, 5d, etc.\n"
     ]
    },
    {
     "name": "stdout",
     "output_type": "stream",
     "text": [
      "No dividend data for AACBR\n",
      "No dividend data for ABAT\n",
      "No dividend data for ABCL\n"
     ]
    },
    {
     "name": "stderr",
     "output_type": "stream",
     "text": [
      "ABLLW: Period 'max' is invalid, must be of the format 1d, 5d, etc.\n"
     ]
    },
    {
     "name": "stdout",
     "output_type": "stream",
     "text": [
      "No dividend data for ABLLW\n",
      "No dividend data for ABLV\n",
      "No dividend data for ABOS\n",
      "No dividend data for ABP\n"
     ]
    },
    {
     "name": "stderr",
     "output_type": "stream",
     "text": [
      "ABPWW: Period 'max' is invalid, must be of the format 1d, 5d, etc.\n"
     ]
    },
    {
     "name": "stdout",
     "output_type": "stream",
     "text": [
      "No dividend data for ABPWW\n",
      "No dividend data for ABSI\n",
      "No dividend data for ABTS\n",
      "No dividend data for ABUS\n",
      "No dividend data for ABVC\n"
     ]
    },
    {
     "name": "stderr",
     "output_type": "stream",
     "text": [
      "Exception ignored from cffi callback <function buffer_callback at 0x745325146f80>:\n",
      "Traceback (most recent call last):\n",
      "  File \"/home/ubuntu/env-310/lib/python3.10/site-packages/curl_cffi/curl.py\", line 67, in buffer_callback\n",
      "    @ffi.def_extern()\n",
      "KeyboardInterrupt: \n",
      "$ABVE: possibly delisted; no price data found  (period=5y)\n",
      "ABVEW: Period 'max' is invalid, must be of the format 1d, 5d, etc.\n"
     ]
    },
    {
     "name": "stdout",
     "output_type": "stream",
     "text": [
      "No dividend data for ABVE\n",
      "No dividend data for ABVEW\n",
      "No dividend data for ACET\n",
      "No dividend data for ACHV\n"
     ]
    },
    {
     "name": "stderr",
     "output_type": "stream",
     "text": [
      "ACONW: Period 'max' is invalid, must be of the format 1d, 5d, etc.\n"
     ]
    },
    {
     "name": "stdout",
     "output_type": "stream",
     "text": [
      "No dividend data for ACIU\n",
      "No dividend data for ACONW\n",
      "No dividend data for ACRS\n",
      "No dividend data for ACRV\n",
      "No dividend data for ACXP\n",
      "No dividend data for ADAG\n",
      "No dividend data for ADAP\n",
      "No dividend data for ADD\n",
      "No dividend data for ADGM\n",
      "No dividend data for ADIL\n"
     ]
    },
    {
     "name": "stderr",
     "output_type": "stream",
     "text": [
      "ADNWW: Period 'max' is invalid, must be of the format 1d, 5d, etc.\n"
     ]
    },
    {
     "name": "stdout",
     "output_type": "stream",
     "text": [
      "No dividend data for ADN\n",
      "No dividend data for ADNWW\n"
     ]
    },
    {
     "name": "stderr",
     "output_type": "stream",
     "text": [
      "ADSEW: Period 'max' is invalid, must be of the format 1d, 5d, etc.\n"
     ]
    },
    {
     "name": "stdout",
     "output_type": "stream",
     "text": [
      "No dividend data for ADSEW\n",
      "No dividend data for ADTX\n",
      "No dividend data for ADV\n",
      "No dividend data for ADVB\n"
     ]
    },
    {
     "name": "stderr",
     "output_type": "stream",
     "text": [
      "ADVWW: Period 'max' is invalid, must be of the format 1d, 5d, etc.\n"
     ]
    },
    {
     "name": "stdout",
     "output_type": "stream",
     "text": [
      "No dividend data for ADVM\n",
      "No dividend data for ADVWW\n",
      "No dividend data for AEI\n",
      "No dividend data for AEMD\n"
     ]
    },
    {
     "name": "stderr",
     "output_type": "stream",
     "text": [
      "AENTW: Period 'max' is invalid, must be of the format 1d, 5d, etc.\n"
     ]
    },
    {
     "name": "stdout",
     "output_type": "stream",
     "text": [
      "No dividend data for AENT\n",
      "No dividend data for AENTW\n"
     ]
    },
    {
     "name": "stderr",
     "output_type": "stream",
     "text": [
      "AERTW: Period 'max' is invalid, must be of the format 1d, 5d, etc.\n"
     ]
    },
    {
     "name": "stdout",
     "output_type": "stream",
     "text": [
      "No dividend data for AERT\n",
      "No dividend data for AERTW\n"
     ]
    },
    {
     "name": "stderr",
     "output_type": "stream",
     "text": [
      "AEVAW: Period 'max' is invalid, must be of the format 1d, 5d, etc.\n",
      "AFJKR: Period 'max' is invalid, must be of the format 1d, 5d, etc.\n"
     ]
    },
    {
     "name": "stdout",
     "output_type": "stream",
     "text": [
      "No dividend data for AEVAW\n",
      "No dividend data for AFJKR\n"
     ]
    },
    {
     "name": "stderr",
     "output_type": "stream",
     "text": [
      "AFRIW: Period 'max' is invalid, must be of the format 1d, 5d, etc.\n"
     ]
    },
    {
     "name": "stdout",
     "output_type": "stream",
     "text": [
      "No dividend data for AFMD\n",
      "No dividend data for AFRIW\n",
      "No dividend data for AGAE\n",
      "No dividend data for AGEN\n",
      "No dividend data for AGH\n",
      "No dividend data for AGMH\n",
      "No dividend data for AGRI\n"
     ]
    },
    {
     "name": "stderr",
     "output_type": "stream",
     "text": [
      "AIFER: Period 'max' is invalid, must be of the format 1d, 5d, etc.\n"
     ]
    },
    {
     "name": "stdout",
     "output_type": "stream",
     "text": [
      "No dividend data for AIFER\n",
      "No dividend data for AIFF\n",
      "No dividend data for AIHS\n"
     ]
    },
    {
     "name": "stderr",
     "output_type": "stream",
     "text": [
      "AIMDW: Period 'max' is invalid, must be of the format 1d, 5d, etc.\n"
     ]
    },
    {
     "name": "stdout",
     "output_type": "stream",
     "text": [
      "No dividend data for AIMD\n",
      "No dividend data for AIMDW\n",
      "No dividend data for AIRE\n",
      "No dividend data for AIRG\n"
     ]
    },
    {
     "name": "stderr",
     "output_type": "stream",
     "text": [
      "AIRJW: Period 'max' is invalid, must be of the format 1d, 5d, etc.\n"
     ]
    },
    {
     "name": "stdout",
     "output_type": "stream",
     "text": [
      "No dividend data for AIRJ\n",
      "No dividend data for AIRJW\n"
     ]
    },
    {
     "name": "stderr",
     "output_type": "stream",
     "text": [
      "AISPW: Period 'max' is invalid, must be of the format 1d, 5d, etc.\n"
     ]
    },
    {
     "name": "stdout",
     "output_type": "stream",
     "text": [
      "No dividend data for AISP\n",
      "No dividend data for AISPW\n",
      "No dividend data for AIXI\n",
      "No dividend data for AKAN\n",
      "No dividend data for AKBA\n",
      "No dividend data for AKTX\n",
      "No dividend data for AKYA\n"
     ]
    },
    {
     "name": "stderr",
     "output_type": "stream",
     "text": [
      "ALCYW: Period 'max' is invalid, must be of the format 1d, 5d, etc.\n"
     ]
    },
    {
     "name": "stdout",
     "output_type": "stream",
     "text": [
      "No dividend data for ALBT\n"
     ]
    },
    {
     "name": "stderr",
     "output_type": "stream",
     "text": [
      "ALDFW: Period 'max' is invalid, must be of the format 1d, 5d, etc.\n"
     ]
    },
    {
     "name": "stdout",
     "output_type": "stream",
     "text": [
      "No dividend data for ALCYW\n",
      "No dividend data for ALDFW\n",
      "No dividend data for ALDX\n",
      "No dividend data for ALEC\n",
      "No dividend data for ALLO\n",
      "No dividend data for ALLR\n",
      "No dividend data for ALTI\n",
      "No dividend data for ALTO\n",
      "No dividend data for ALXO\n",
      "No dividend data for ALZN\n",
      "No dividend data for AMIX\n",
      "No dividend data for AMLX\n"
     ]
    },
    {
     "name": "stderr",
     "output_type": "stream",
     "text": [
      "AMODW: Period 'max' is invalid, must be of the format 1d, 5d, etc.\n"
     ]
    },
    {
     "name": "stdout",
     "output_type": "stream",
     "text": [
      "No dividend data for AMOD\n",
      "No dividend data for AMODW\n",
      "No dividend data for AMPG\n",
      "No dividend data for AMPGW\n",
      "No dividend data for AMST\n",
      "No dividend data for AMTX\n",
      "No dividend data for ANEB\n"
     ]
    },
    {
     "name": "stderr",
     "output_type": "stream",
     "text": [
      "ANGHW: Period 'max' is invalid, must be of the format 1d, 5d, etc.\n"
     ]
    },
    {
     "name": "stdout",
     "output_type": "stream",
     "text": [
      "No dividend data for ANGH\n",
      "No dividend data for ANGHW\n",
      "No dividend data for ANIX\n",
      "No dividend data for ANL\n"
     ]
    },
    {
     "name": "stderr",
     "output_type": "stream",
     "text": [
      "ANNAW: Period 'max' is invalid, must be of the format 1d, 5d, etc.\n"
     ]
    },
    {
     "name": "stdout",
     "output_type": "stream",
     "text": [
      "No dividend data for ANNAW\n"
     ]
    },
    {
     "name": "stderr",
     "output_type": "stream",
     "text": [
      "ANSCW: Period 'max' is invalid, must be of the format 1d, 5d, etc.\n"
     ]
    },
    {
     "name": "stdout",
     "output_type": "stream",
     "text": [
      "No dividend data for ANNX\n",
      "No dividend data for ANSCW\n",
      "No dividend data for ANTE\n",
      "No dividend data for ANTX\n",
      "No dividend data for ANY\n"
     ]
    },
    {
     "name": "stderr",
     "output_type": "stream",
     "text": [
      "APCXW: Period 'max' is invalid, must be of the format 1d, 5d, etc.\n"
     ]
    },
    {
     "name": "stdout",
     "output_type": "stream",
     "text": [
      "No dividend data for APCX\n",
      "No dividend data for APCXW\n",
      "No dividend data for APDN\n",
      "No dividend data for API\n",
      "No dividend data for APLM\n",
      "No dividend data for APLMW\n",
      "No dividend data for APLT\n",
      "No dividend data for APM\n",
      "No dividend data for APPS\n",
      "No dividend data for APRE\n",
      "No dividend data for APVO\n",
      "No dividend data for APYX\n",
      "No dividend data for AQB\n",
      "No dividend data for AQMS\n",
      "No dividend data for AQST\n",
      "No dividend data for ARAY\n",
      "No dividend data for ARBB\n"
     ]
    },
    {
     "name": "stderr",
     "output_type": "stream",
     "text": [
      "ARBEW: Period 'max' is invalid, must be of the format 1d, 5d, etc.\n"
     ]
    },
    {
     "name": "stdout",
     "output_type": "stream",
     "text": [
      "No dividend data for ARBE\n",
      "No dividend data for ARBEW\n",
      "No dividend data for ARBK\n",
      "No dividend data for ARDX\n"
     ]
    },
    {
     "name": "stderr",
     "output_type": "stream",
     "text": [
      "AREBW: Period 'max' is invalid, must be of the format 1d, 5d, etc.\n"
     ]
    },
    {
     "name": "stdout",
     "output_type": "stream",
     "text": [
      "No dividend data for AREB\n",
      "No dividend data for AREBW\n"
     ]
    },
    {
     "name": "stderr",
     "output_type": "stream",
     "text": [
      "ARKOW: Period 'max' is invalid, must be of the format 1d, 5d, etc.\n"
     ]
    },
    {
     "name": "stdout",
     "output_type": "stream",
     "text": [
      "No dividend data for AREC\n",
      "No dividend data for ARKOW\n",
      "No dividend data for ARQQW\n",
      "No dividend data for ARTL\n",
      "No dividend data for ARTV\n"
     ]
    },
    {
     "name": "stderr",
     "output_type": "stream",
     "text": [
      "ASBPW: Period 'max' is invalid, must be of the format 1d, 5d, etc.\n"
     ]
    },
    {
     "name": "stdout",
     "output_type": "stream",
     "text": [
      "No dividend data for ASBP\n",
      "No dividend data for ASBPW\n"
     ]
    },
    {
     "name": "stderr",
     "output_type": "stream",
     "text": [
      "ASPCR: Period 'max' is invalid, must be of the format 1d, 5d, etc.\n"
     ]
    },
    {
     "name": "stdout",
     "output_type": "stream",
     "text": [
      "No dividend data for ASNS\n",
      "No dividend data for ASPCR\n"
     ]
    },
    {
     "name": "stderr",
     "output_type": "stream",
     "text": [
      "ASPSW: Period 'max' is invalid, must be of the format 1d, 5d, etc.\n"
     ]
    },
    {
     "name": "stdout",
     "output_type": "stream",
     "text": [
      "No dividend data for ASPS\n",
      "No dividend data for ASPSW\n"
     ]
    },
    {
     "name": "stderr",
     "output_type": "stream",
     "text": [
      "ASPSZ: Period 'max' is invalid, must be of the format 1d, 5d, etc.\n"
     ]
    },
    {
     "name": "stdout",
     "output_type": "stream",
     "text": [
      "No dividend data for ASPSZ\n",
      "No dividend data for ASRT\n",
      "No dividend data for ASTI\n",
      "No dividend data for ASYS\n",
      "No dividend data for ATAI\n",
      "No dividend data for ATER\n",
      "No dividend data for ATHA\n",
      "No dividend data for ATHE\n",
      "No dividend data for ATLN\n"
     ]
    },
    {
     "name": "stderr",
     "output_type": "stream",
     "text": [
      "ATMCR: Period 'max' is invalid, must be of the format 1d, 5d, etc.\n"
     ]
    },
    {
     "name": "stdout",
     "output_type": "stream",
     "text": [
      "No dividend data for ATLX\n",
      "No dividend data for ATMCR\n"
     ]
    },
    {
     "name": "stderr",
     "output_type": "stream",
     "text": [
      "ATMCW: Period 'max' is invalid, must be of the format 1d, 5d, etc.\n"
     ]
    },
    {
     "name": "stdout",
     "output_type": "stream",
     "text": [
      "No dividend data for ATMCW\n"
     ]
    },
    {
     "name": "stderr",
     "output_type": "stream",
     "text": [
      "ATNFW: Period 'max' is invalid, must be of the format 1d, 5d, etc.\n"
     ]
    },
    {
     "name": "stdout",
     "output_type": "stream",
     "text": [
      "No dividend data for ATNF\n",
      "No dividend data for ATNFW\n",
      "No dividend data for ATOS\n",
      "No dividend data for ATPC\n",
      "No dividend data for ATXG\n",
      "No dividend data for ATXS\n"
     ]
    },
    {
     "name": "stderr",
     "output_type": "stream",
     "text": [
      "AUROW: Period 'max' is invalid, must be of the format 1d, 5d, etc.\n"
     ]
    },
    {
     "name": "stdout",
     "output_type": "stream",
     "text": [
      "No dividend data for ATYR\n",
      "No dividend data for AUROW\n",
      "No dividend data for AUTL\n",
      "No dividend data for AUUD\n"
     ]
    },
    {
     "name": "stderr",
     "output_type": "stream",
     "text": [
      "AUUDW: Period 'max' is invalid, must be of the format 1d, 5d, etc.\n"
     ]
    },
    {
     "name": "stdout",
     "output_type": "stream",
     "text": [
      "No dividend data for AUUDW\n",
      "No dividend data for AVIR\n",
      "No dividend data for AVR\n",
      "No dividend data for AVTX\n",
      "No dividend data for AXTI\n",
      "No dividend data for AYRO\n",
      "No dividend data for AYTU\n"
     ]
    },
    {
     "name": "stderr",
     "output_type": "stream",
     "text": [
      "BACQR: Period 'max' is invalid, must be of the format 1d, 5d, etc.\n"
     ]
    },
    {
     "name": "stdout",
     "output_type": "stream",
     "text": [
      "No dividend data for AZI\n",
      "No dividend data for BACQR\n"
     ]
    },
    {
     "name": "stderr",
     "output_type": "stream",
     "text": [
      "BAERW: Period 'max' is invalid, must be of the format 1d, 5d, etc.\n"
     ]
    },
    {
     "name": "stdout",
     "output_type": "stream",
     "text": [
      "No dividend data for BAER\n",
      "No dividend data for BAERW\n",
      "No dividend data for BANL\n",
      "No dividend data for BAOS\n",
      "No dividend data for BBLG\n",
      "No dividend data for BCAB\n",
      "No dividend data for BCDA\n",
      "No dividend data for BCG\n",
      "No dividend data for BCLI\n"
     ]
    },
    {
     "name": "stderr",
     "output_type": "stream",
     "text": [
      "BCTXW: Period 'max' is invalid, must be of the format 1d, 5d, etc.\n"
     ]
    },
    {
     "name": "stdout",
     "output_type": "stream",
     "text": [
      "No dividend data for BCTX\n"
     ]
    },
    {
     "name": "stderr",
     "output_type": "stream",
     "text": [
      "BCTXZ: Period 'max' is invalid, must be of the format 1d, 5d, etc.\n"
     ]
    },
    {
     "name": "stdout",
     "output_type": "stream",
     "text": [
      "No dividend data for BCTXW\n"
     ]
    },
    {
     "name": "stderr",
     "output_type": "stream",
     "text": [
      "BDMDW: Period 'max' is invalid, must be of the format 1d, 5d, etc.\n"
     ]
    },
    {
     "name": "stdout",
     "output_type": "stream",
     "text": [
      "No dividend data for BCTXZ\n",
      "No dividend data for BDMDW\n",
      "No dividend data for BDRX\n",
      "No dividend data for BDSX\n"
     ]
    },
    {
     "name": "stderr",
     "output_type": "stream",
     "text": [
      "BEAGR: Period 'max' is invalid, must be of the format 1d, 5d, etc.\n"
     ]
    },
    {
     "name": "stdout",
     "output_type": "stream",
     "text": [
      "No dividend data for BDTX\n",
      "No dividend data for BEAGR\n",
      "No dividend data for BEAT\n",
      "No dividend data for BEEM\n"
     ]
    },
    {
     "name": "stderr",
     "output_type": "stream",
     "text": [
      "BENFW: Period 'max' is invalid, must be of the format 1d, 5d, etc.\n"
     ]
    },
    {
     "name": "stdout",
     "output_type": "stream",
     "text": [
      "No dividend data for BENF\n",
      "No dividend data for BENFW\n"
     ]
    },
    {
     "name": "stderr",
     "output_type": "stream",
     "text": [
      "BFRGW: Period 'max' is invalid, must be of the format 1d, 5d, etc.\n"
     ]
    },
    {
     "name": "stdout",
     "output_type": "stream",
     "text": [
      "No dividend data for BFRG\n",
      "No dividend data for BFRGW\n"
     ]
    },
    {
     "name": "stderr",
     "output_type": "stream",
     "text": [
      "BFRIW: Period 'max' is invalid, must be of the format 1d, 5d, etc.\n"
     ]
    },
    {
     "name": "stdout",
     "output_type": "stream",
     "text": [
      "No dividend data for BFRI\n",
      "No dividend data for BFRIW\n",
      "No dividend data for BGLC\n",
      "No dividend data for BHAT\n",
      "No dividend data for BIAF\n",
      "No dividend data for BIOA\n",
      "No dividend data for BIOX\n",
      "No dividend data for BITF\n",
      "No dividend data for BIVI\n",
      "No dividend data for BIYA\n",
      "No dividend data for BJDX\n",
      "No dividend data for BKYI\n",
      "No dividend data for BLBX\n"
     ]
    },
    {
     "name": "stderr",
     "output_type": "stream",
     "text": [
      "BLDEW: Period 'max' is invalid, must be of the format 1d, 5d, etc.\n"
     ]
    },
    {
     "name": "stdout",
     "output_type": "stream",
     "text": [
      "No dividend data for BLDE\n",
      "No dividend data for BLDEW\n",
      "No dividend data for BLDP\n",
      "No dividend data for BLIN\n",
      "No dividend data for BLIV\n",
      "No dividend data for BLMZ\n",
      "No dividend data for BLNE\n",
      "No dividend data for BLNK\n",
      "No dividend data for BLRX\n",
      "No dividend data for BLUE\n",
      "No dividend data for BMEA\n",
      "No dividend data for BMGL\n",
      "No dividend data for BMR\n",
      "No dividend data for BMRA\n",
      "No dividend data for BNAI\n",
      "No dividend data for BNGO\n",
      "No dividend data for BNR\n",
      "No dividend data for BNRG\n"
     ]
    },
    {
     "name": "stderr",
     "output_type": "stream",
     "text": [
      "BNZIW: Period 'max' is invalid, must be of the format 1d, 5d, etc.\n"
     ]
    },
    {
     "name": "stdout",
     "output_type": "stream",
     "text": [
      "No dividend data for BNZI\n",
      "No dividend data for BNZIW\n",
      "No dividend data for BOF\n",
      "No dividend data for BOLD\n",
      "No dividend data for BOLT\n",
      "No dividend data for BON\n"
     ]
    },
    {
     "name": "stderr",
     "output_type": "stream",
     "text": [
      "BOWNR: Period 'max' is invalid, must be of the format 1d, 5d, etc.\n"
     ]
    },
    {
     "name": "stdout",
     "output_type": "stream",
     "text": [
      "No dividend data for BOSC\n",
      "No dividend data for BOWNR\n",
      "No dividend data for BOXL\n",
      "No dividend data for BRAG\n",
      "No dividend data for BREA\n"
     ]
    },
    {
     "name": "stderr",
     "output_type": "stream",
     "text": [
      "BRLSW: Period 'max' is invalid, must be of the format 1d, 5d, etc.\n"
     ]
    },
    {
     "name": "stdout",
     "output_type": "stream",
     "text": [
      "No dividend data for BRFH\n",
      "No dividend data for BRLSW\n",
      "No dividend data for BRLT\n",
      "No dividend data for BRNS\n",
      "No dividend data for BROG\n",
      "No dividend data for BRTX\n"
     ]
    },
    {
     "name": "stderr",
     "output_type": "stream",
     "text": [
      "BSIIW: Period 'max' is invalid, must be of the format 1d, 5d, etc.\n"
     ]
    },
    {
     "name": "stdout",
     "output_type": "stream",
     "text": [
      "No dividend data for BSGM\n",
      "No dividend data for BSIIW\n"
     ]
    },
    {
     "name": "stderr",
     "output_type": "stream",
     "text": [
      "BSLKW: Period 'max' is invalid, must be of the format 1d, 5d, etc.\n"
     ]
    },
    {
     "name": "stdout",
     "output_type": "stream",
     "text": [
      "No dividend data for BSLKW\n",
      "No dividend data for BTAI\n",
      "No dividend data for BTBD\n",
      "No dividend data for BTBT\n",
      "No dividend data for BTCT\n",
      "No dividend data for BTM\n"
     ]
    },
    {
     "name": "stderr",
     "output_type": "stream",
     "text": [
      "BTMWW: Period 'max' is invalid, must be of the format 1d, 5d, etc.\n"
     ]
    },
    {
     "name": "stdout",
     "output_type": "stream",
     "text": [
      "No dividend data for BTMD\n",
      "No dividend data for BTMWW\n",
      "No dividend data for BTOC\n",
      "No dividend data for BTOG\n",
      "No dividend data for BULLW\n",
      "No dividend data for BULLZ\n",
      "No dividend data for BWEN\n",
      "No dividend data for BYND\n",
      "No dividend data for BYSI\n"
     ]
    },
    {
     "name": "stderr",
     "output_type": "stream",
     "text": [
      "BZAIW: Period 'max' is invalid, must be of the format 1d, 5d, etc.\n"
     ]
    },
    {
     "name": "stdout",
     "output_type": "stream",
     "text": [
      "No dividend data for BZAI\n",
      "No dividend data for BZAIW\n"
     ]
    },
    {
     "name": "stderr",
     "output_type": "stream",
     "text": [
      "BZFDW: Period 'max' is invalid, must be of the format 1d, 5d, etc.\n"
     ]
    },
    {
     "name": "stdout",
     "output_type": "stream",
     "text": [
      "No dividend data for BZFD\n",
      "No dividend data for BZFDW\n",
      "No dividend data for BZUN\n",
      "No dividend data for CABA\n",
      "No dividend data for CALC\n",
      "No dividend data for CAMP\n",
      "No dividend data for CAN\n",
      "No dividend data for CAPNR\n",
      "No dividend data for CAPS\n",
      "No dividend data for CAPT\n",
      "No dividend data for CASI\n",
      "No dividend data for CASK\n",
      "No dividend data for CBAT\n",
      "No dividend data for CBUS\n",
      "No dividend data for CCCC\n",
      "No dividend data for CCG\n"
     ]
    },
    {
     "name": "stderr",
     "output_type": "stream",
     "text": [
      "CCIRW: Period 'max' is invalid, must be of the format 1d, 5d, etc.\n"
     ]
    },
    {
     "name": "stdout",
     "output_type": "stream",
     "text": [
      "No dividend data for CCGWW\n",
      "No dividend data for CCIRW\n"
     ]
    },
    {
     "name": "stderr",
     "output_type": "stream",
     "text": [
      "CCIXW: Period 'max' is invalid, must be of the format 1d, 5d, etc.\n"
     ]
    },
    {
     "name": "stdout",
     "output_type": "stream",
     "text": [
      "No dividend data for CCIXW\n",
      "No dividend data for CCLD\n",
      "No dividend data for CCTG\n"
     ]
    },
    {
     "name": "stderr",
     "output_type": "stream",
     "text": [
      "CDIOW: Period 'max' is invalid, must be of the format 1d, 5d, etc.\n"
     ]
    },
    {
     "name": "stdout",
     "output_type": "stream",
     "text": [
      "No dividend data for CDIO\n",
      "No dividend data for CDIOW\n",
      "No dividend data for CDLX\n",
      "No dividend data for CDT\n"
     ]
    },
    {
     "name": "stderr",
     "output_type": "stream",
     "text": [
      "CDTTW: Period 'max' is invalid, must be of the format 1d, 5d, etc.\n"
     ]
    },
    {
     "name": "stdout",
     "output_type": "stream",
     "text": [
      "No dividend data for CDTG\n",
      "No dividend data for CDTTW\n",
      "No dividend data for CDXS\n",
      "No dividend data for CDZI\n",
      "No dividend data for CELU\n",
      "No dividend data for CELZ\n",
      "No dividend data for CENN\n"
     ]
    },
    {
     "name": "stderr",
     "output_type": "stream",
     "text": [
      "CEROW: Period 'max' is invalid, must be of the format 1d, 5d, etc.\n"
     ]
    },
    {
     "name": "stdout",
     "output_type": "stream",
     "text": [
      "No dividend data for CERO\n",
      "No dividend data for CEROW\n",
      "No dividend data for CERS\n",
      "No dividend data for CETY\n",
      "No dividend data for CGBS\n"
     ]
    },
    {
     "name": "stderr",
     "output_type": "stream",
     "text": [
      "CGBSW: Period 'max' is invalid, must be of the format 1d, 5d, etc.\n"
     ]
    },
    {
     "name": "stdout",
     "output_type": "stream",
     "text": [
      "No dividend data for CGBSW\n",
      "No dividend data for CGC\n",
      "No dividend data for CGEN\n",
      "No dividend data for CGTL\n"
     ]
    },
    {
     "name": "stderr",
     "output_type": "stream",
     "text": [
      "CHARR: Period 'max' is invalid, must be of the format 1d, 5d, etc.\n"
     ]
    },
    {
     "name": "stdout",
     "output_type": "stream",
     "text": [
      "No dividend data for CGTX\n",
      "No dividend data for CHARR\n",
      "No dividend data for CHEK\n",
      "No dividend data for CHNR\n",
      "No dividend data for CHR\n",
      "No dividend data for CHRS\n",
      "No dividend data for CHSN\n"
     ]
    },
    {
     "name": "stderr",
     "output_type": "stream",
     "text": [
      "CIFRW: Period 'max' is invalid, must be of the format 1d, 5d, etc.\n"
     ]
    },
    {
     "name": "stdout",
     "output_type": "stream",
     "text": [
      "No dividend data for CIFR\n",
      "No dividend data for CIFRW\n",
      "No dividend data for CIIT\n"
     ]
    },
    {
     "name": "stderr",
     "output_type": "stream",
     "text": [
      "CINGW: Period 'max' is invalid, must be of the format 1d, 5d, etc.\n"
     ]
    },
    {
     "name": "stdout",
     "output_type": "stream",
     "text": [
      "No dividend data for CING\n",
      "No dividend data for CINGW\n",
      "No dividend data for CISO\n",
      "No dividend data for CISS\n",
      "No dividend data for CJET\n",
      "No dividend data for CKPT\n",
      "No dividend data for CLEU\n",
      "No dividend data for CLGN\n",
      "No dividend data for CLIK\n",
      "No dividend data for CLIR\n",
      "No dividend data for CLLS\n",
      "No dividend data for CLNE\n"
     ]
    },
    {
     "name": "stderr",
     "output_type": "stream",
     "text": [
      "CLNNW: Period 'max' is invalid, must be of the format 1d, 5d, etc.\n"
     ]
    },
    {
     "name": "stdout",
     "output_type": "stream",
     "text": [
      "No dividend data for CLNN\n",
      "No dividend data for CLNNW\n",
      "No dividend data for CLOV\n",
      "No dividend data for CLRB\n"
     ]
    },
    {
     "name": "stderr",
     "output_type": "stream",
     "text": [
      "CLSKW: Period 'max' is invalid, must be of the format 1d, 5d, etc.\n"
     ]
    },
    {
     "name": "stdout",
     "output_type": "stream",
     "text": [
      "No dividend data for CLSD\n",
      "No dividend data for CLSKW\n",
      "No dividend data for CLYM\n",
      "No dividend data for CMBM\n",
      "No dividend data for CMMB\n",
      "No dividend data for CMND\n",
      "No dividend data for CMPS\n",
      "No dividend data for CMPX\n"
     ]
    },
    {
     "name": "stderr",
     "output_type": "stream",
     "text": [
      "CNCKW: Period 'max' is invalid, must be of the format 1d, 5d, etc.\n"
     ]
    },
    {
     "name": "stdout",
     "output_type": "stream",
     "text": [
      "No dividend data for CNCKW\n",
      "No dividend data for CNDT\n",
      "No dividend data for CNET\n",
      "No dividend data for CNEY\n",
      "No dividend data for CNFR\n",
      "No dividend data for CNSP\n",
      "No dividend data for CNTB\n",
      "No dividend data for CNTX\n",
      "No dividend data for CNTY\n",
      "No dividend data for CNVS\n"
     ]
    },
    {
     "name": "stderr",
     "output_type": "stream",
     "text": [
      "COCHW: Period 'max' is invalid, must be of the format 1d, 5d, etc.\n"
     ]
    },
    {
     "name": "stdout",
     "output_type": "stream",
     "text": [
      "No dividend data for COCH\n",
      "No dividend data for COCHW\n",
      "No dividend data for COCP\n"
     ]
    },
    {
     "name": "stderr",
     "output_type": "stream",
     "text": [
      "COEPW: Period 'max' is invalid, must be of the format 1d, 5d, etc.\n"
     ]
    },
    {
     "name": "stdout",
     "output_type": "stream",
     "text": [
      "No dividend data for CODX\n",
      "No dividend data for COEPW\n",
      "No dividend data for COGT\n",
      "No dividend data for COOT\n",
      "No dividend data for COSM\n",
      "No dividend data for CPIX\n",
      "No dividend data for CPOP\n",
      "No dividend data for CPSH\n",
      "No dividend data for CRBU\n",
      "No dividend data for CRDF\n",
      "No dividend data for CRDL\n"
     ]
    },
    {
     "name": "stderr",
     "output_type": "stream",
     "text": [
      "CRESW: Period 'max' is invalid, must be of the format 1d, 5d, etc.\n"
     ]
    },
    {
     "name": "stdout",
     "output_type": "stream",
     "text": [
      "No dividend data for CREG\n",
      "No dividend data for CRESW\n"
     ]
    },
    {
     "name": "stderr",
     "output_type": "stream",
     "text": [
      "CREVW: Period 'max' is invalid, must be of the format 1d, 5d, etc.\n"
     ]
    },
    {
     "name": "stdout",
     "output_type": "stream",
     "text": [
      "No dividend data for CREV\n",
      "No dividend data for CREVW\n",
      "No dividend data for CREX\n",
      "No dividend data for CRGO\n",
      "No dividend data for CRGX\n",
      "No dividend data for CRIS\n"
     ]
    },
    {
     "name": "stderr",
     "output_type": "stream",
     "text": [
      "CRMLW: Period 'max' is invalid, must be of the format 1d, 5d, etc.\n"
     ]
    },
    {
     "name": "stdout",
     "output_type": "stream",
     "text": [
      "No dividend data for CRML\n",
      "No dividend data for CRMLW\n",
      "No dividend data for CRNT\n",
      "No dividend data for CRON\n",
      "No dividend data for CRVS\n",
      "No dividend data for CSAI\n",
      "No dividend data for CSCI\n",
      "No dividend data for CTKB\n",
      "No dividend data for CTMX\n",
      "No dividend data for CTNM\n",
      "No dividend data for CTNT\n",
      "No dividend data for CTOR\n",
      "No dividend data for CTRM\n",
      "No dividend data for CTSO\n",
      "No dividend data for CTXR\n"
     ]
    },
    {
     "name": "stderr",
     "output_type": "stream",
     "text": [
      "CUBWW: Period 'max' is invalid, must be of the format 1d, 5d, etc.\n"
     ]
    },
    {
     "name": "stdout",
     "output_type": "stream",
     "text": [
      "No dividend data for CUBWW\n",
      "No dividend data for CUE\n",
      "No dividend data for CUPR\n"
     ]
    },
    {
     "name": "stderr",
     "output_type": "stream",
     "text": [
      "CURIW: Period 'max' is invalid, must be of the format 1d, 5d, etc.\n"
     ]
    },
    {
     "name": "stdout",
     "output_type": "stream",
     "text": [
      "No dividend data for CURIW\n",
      "No dividend data for CURR\n",
      "No dividend data for CVAC\n",
      "No dividend data for CVGI\n",
      "No dividend data for CVV\n",
      "No dividend data for CWD\n"
     ]
    },
    {
     "name": "stderr",
     "output_type": "stream",
     "text": [
      "CXAIW: Period 'max' is invalid, must be of the format 1d, 5d, etc.\n"
     ]
    },
    {
     "name": "stdout",
     "output_type": "stream",
     "text": [
      "No dividend data for CXAI\n",
      "No dividend data for CXAIW\n",
      "No dividend data for CYCN\n"
     ]
    },
    {
     "name": "stderr",
     "output_type": "stream",
     "text": [
      "CYCUW: Period 'max' is invalid, must be of the format 1d, 5d, etc.\n"
     ]
    },
    {
     "name": "stdout",
     "output_type": "stream",
     "text": [
      "No dividend data for CYCU\n",
      "No dividend data for CYCUW\n",
      "No dividend data for CYN\n",
      "No dividend data for DADA\n",
      "No dividend data for DARE\n",
      "No dividend data for DATS\n"
     ]
    },
    {
     "name": "stderr",
     "output_type": "stream",
     "text": [
      "DAVEW: Period 'max' is invalid, must be of the format 1d, 5d, etc.\n"
     ]
    },
    {
     "name": "stdout",
     "output_type": "stream",
     "text": [
      "No dividend data for DATSW\n",
      "No dividend data for DAVEW\n",
      "No dividend data for DCGO\n",
      "No dividend data for DEFT\n",
      "No dividend data for DENN\n",
      "No dividend data for DEVS\n"
     ]
    },
    {
     "name": "stderr",
     "output_type": "stream",
     "text": [
      "DFLIW: Period 'max' is invalid, must be of the format 1d, 5d, etc.\n"
     ]
    },
    {
     "name": "stdout",
     "output_type": "stream",
     "text": [
      "No dividend data for DFLI\n",
      "No dividend data for DFLIW\n",
      "No dividend data for DGLY\n",
      "No dividend data for DGXX\n",
      "No dividend data for DH\n"
     ]
    },
    {
     "name": "stderr",
     "output_type": "stream",
     "text": [
      "DHAIW: Period 'max' is invalid, must be of the format 1d, 5d, etc.\n"
     ]
    },
    {
     "name": "stdout",
     "output_type": "stream",
     "text": [
      "No dividend data for DHAI\n",
      "No dividend data for DHAIW\n"
     ]
    },
    {
     "name": "stderr",
     "output_type": "stream",
     "text": [
      "DISTR: Period 'max' is invalid, must be of the format 1d, 5d, etc.\n"
     ]
    },
    {
     "name": "stdout",
     "output_type": "stream",
     "text": [
      "No dividend data for DIBS\n",
      "No dividend data for DISTR\n"
     ]
    },
    {
     "name": "stderr",
     "output_type": "stream",
     "text": [
      "DISTW: Period 'max' is invalid, must be of the format 1d, 5d, etc.\n"
     ]
    },
    {
     "name": "stdout",
     "output_type": "stream",
     "text": [
      "No dividend data for DISTW\n",
      "No dividend data for DLPN\n"
     ]
    },
    {
     "name": "stderr",
     "output_type": "stream",
     "text": [
      "DMAAR: Period 'max' is invalid, must be of the format 1d, 5d, etc.\n"
     ]
    },
    {
     "name": "stdout",
     "output_type": "stream",
     "text": [
      "No dividend data for DLTH\n",
      "No dividend data for DMAAR\n",
      "No dividend data for DMAC\n",
      "No dividend data for DMN\n",
      "No dividend data for DPRO\n",
      "No dividend data for DRCT\n"
     ]
    },
    {
     "name": "stderr",
     "output_type": "stream",
     "text": [
      "DRDBW: Period 'max' is invalid, must be of the format 1d, 5d, etc.\n"
     ]
    },
    {
     "name": "stdout",
     "output_type": "stream",
     "text": [
      "No dividend data for DRDBW\n",
      "No dividend data for DRIO\n",
      "No dividend data for DRMA\n",
      "No dividend data for DRRX\n"
     ]
    },
    {
     "name": "stderr",
     "output_type": "stream",
     "text": [
      "DRTSW: Period 'max' is invalid, must be of the format 1d, 5d, etc.\n"
     ]
    },
    {
     "name": "stdout",
     "output_type": "stream",
     "text": [
      "No dividend data for DRTS\n",
      "No dividend data for DRTSW\n",
      "No dividend data for DSGN\n"
     ]
    },
    {
     "name": "stderr",
     "output_type": "stream",
     "text": [
      "DSYWW: Period 'max' is invalid, must be of the format 1d, 5d, etc.\n"
     ]
    },
    {
     "name": "stdout",
     "output_type": "stream",
     "text": [
      "No dividend data for DSY\n",
      "No dividend data for DSYWW\n",
      "No dividend data for DTCK\n",
      "No dividend data for DTI\n"
     ]
    },
    {
     "name": "stderr",
     "output_type": "stream",
     "text": [
      "DTSQR: Period 'max' is invalid, must be of the format 1d, 5d, etc.\n"
     ]
    },
    {
     "name": "stdout",
     "output_type": "stream",
     "text": [
      "No dividend data for DTIL\n",
      "No dividend data for DTSQR\n",
      "No dividend data for DTSS\n"
     ]
    },
    {
     "name": "stderr",
     "output_type": "stream",
     "text": [
      "DTSTW: Period 'max' is invalid, must be of the format 1d, 5d, etc.\n"
     ]
    },
    {
     "name": "stdout",
     "output_type": "stream",
     "text": [
      "No dividend data for DTST\n",
      "No dividend data for DTSTW\n",
      "No dividend data for DUO\n",
      "No dividend data for DVLT\n",
      "No dividend data for DXLG\n",
      "No dividend data for DXST\n"
     ]
    },
    {
     "name": "stderr",
     "output_type": "stream",
     "text": [
      "DYNXW: Period 'max' is invalid, must be of the format 1d, 5d, etc.\n"
     ]
    },
    {
     "name": "stdout",
     "output_type": "stream",
     "text": [
      "No dividend data for DYAI\n",
      "No dividend data for DYNXW\n",
      "No dividend data for EBON\n",
      "No dividend data for ECDA\n"
     ]
    },
    {
     "name": "stderr",
     "output_type": "stream",
     "text": [
      "ECXWW: Period 'max' is invalid, must be of the format 1d, 5d, etc.\n"
     ]
    },
    {
     "name": "stdout",
     "output_type": "stream",
     "text": [
      "No dividend data for ECX\n",
      "No dividend data for ECXWW\n",
      "No dividend data for EDAP\n"
     ]
    },
    {
     "name": "stderr",
     "output_type": "stream",
     "text": [
      "EDBLW: Period 'max' is invalid, must be of the format 1d, 5d, etc.\n"
     ]
    },
    {
     "name": "stdout",
     "output_type": "stream",
     "text": [
      "No dividend data for EDBL\n",
      "No dividend data for EDBLW\n",
      "No dividend data for EDHL\n",
      "No dividend data for EDIT\n",
      "No dividend data for EDSA\n",
      "No dividend data for EDTK\n",
      "No dividend data for EEIQ\n",
      "No dividend data for EFOI\n",
      "No dividend data for EGHT\n",
      "No dividend data for EHGO\n",
      "No dividend data for EHTH\n",
      "No dividend data for EJH\n",
      "No dividend data for EKSO\n",
      "No dividend data for ELAB\n",
      "No dividend data for ELBM\n",
      "No dividend data for ELDN\n",
      "No dividend data for ELEV\n",
      "No dividend data for ELUT\n",
      "No dividend data for ELVA\n",
      "No dividend data for ELWS\n"
     ]
    },
    {
     "name": "stderr",
     "output_type": "stream",
     "text": [
      "EMCGR: Period 'max' is invalid, must be of the format 1d, 5d, etc.\n"
     ]
    },
    {
     "name": "stdout",
     "output_type": "stream",
     "text": [
      "No dividend data for EMCGR\n",
      "No dividend data for ENGN\n"
     ]
    },
    {
     "name": "stderr",
     "output_type": "stream",
     "text": [
      "ENGNW: Period 'max' is invalid, must be of the format 1d, 5d, etc.\n"
     ]
    },
    {
     "name": "stdout",
     "output_type": "stream",
     "text": [
      "No dividend data for ENGNW\n",
      "No dividend data for ENGS\n",
      "No dividend data for ENLV\n",
      "No dividend data for ENSC\n",
      "No dividend data for ENTO\n",
      "No dividend data for ENTX\n",
      "No dividend data for ENVB\n",
      "No dividend data for EOSEW\n",
      "No dividend data for EPIX\n",
      "No dividend data for EPOW\n",
      "No dividend data for EPRX\n",
      "No dividend data for EQ\n",
      "No dividend data for ERAS\n",
      "No dividend data for ERNA\n"
     ]
    },
    {
     "name": "stderr",
     "output_type": "stream",
     "text": [
      "ESGLW: Period 'max' is invalid, must be of the format 1d, 5d, etc.\n"
     ]
    },
    {
     "name": "stdout",
     "output_type": "stream",
     "text": [
      "No dividend data for ESGL\n",
      "No dividend data for ESGLW\n"
     ]
    },
    {
     "name": "stderr",
     "output_type": "stream",
     "text": [
      "ESLAW: Period 'max' is invalid, must be of the format 1d, 5d, etc.\n"
     ]
    },
    {
     "name": "stdout",
     "output_type": "stream",
     "text": [
      "No dividend data for ESLA\n",
      "No dividend data for ESLAW\n",
      "No dividend data for ESPR\n",
      "No dividend data for EU\n"
     ]
    },
    {
     "name": "stderr",
     "output_type": "stream",
     "text": [
      "EUDAW: Period 'max' is invalid, must be of the format 1d, 5d, etc.\n"
     ]
    },
    {
     "name": "stdout",
     "output_type": "stream",
     "text": [
      "No dividend data for EUDA\n",
      "No dividend data for EUDAW\n",
      "No dividend data for EVAX\n",
      "No dividend data for EVGN\n",
      "No dividend data for EVGO\n"
     ]
    },
    {
     "name": "stderr",
     "output_type": "stream",
     "text": [
      "EVLVW: Period 'max' is invalid, must be of the format 1d, 5d, etc.\n"
     ]
    },
    {
     "name": "stdout",
     "output_type": "stream",
     "text": [
      "No dividend data for EVGOW\n",
      "No dividend data for EVLVW\n",
      "No dividend data for EVO\n",
      "No dividend data for EVOK\n",
      "No dividend data for EVTV\n",
      "No dividend data for EXFY\n",
      "No dividend data for EYEN\n",
      "No dividend data for EZGO\n"
     ]
    },
    {
     "name": "stderr",
     "output_type": "stream",
     "text": [
      "FAASW: Period 'max' is invalid, must be of the format 1d, 5d, etc.\n"
     ]
    },
    {
     "name": "stdout",
     "output_type": "stream",
     "text": [
      "No dividend data for FAAS\n",
      "No dividend data for FAASW\n"
     ]
    },
    {
     "name": "stderr",
     "output_type": "stream",
     "text": [
      "FACTW: Period 'max' is invalid, must be of the format 1d, 5d, etc.\n"
     ]
    },
    {
     "name": "stdout",
     "output_type": "stream",
     "text": [
      "No dividend data for FACTW\n",
      "No dividend data for FAMI\n"
     ]
    },
    {
     "name": "stderr",
     "output_type": "stream",
     "text": [
      "FATBW: Period 'max' is invalid, must be of the format 1d, 5d, etc.\n"
     ]
    },
    {
     "name": "stdout",
     "output_type": "stream",
     "text": [
      "No dividend data for FATBW\n",
      "No dividend data for FATE\n",
      "No dividend data for FBGL\n",
      "No dividend data for FBIO\n",
      "No dividend data for FBLG\n"
     ]
    },
    {
     "name": "stderr",
     "output_type": "stream",
     "text": [
      "FBYDW: Period 'max' is invalid, must be of the format 1d, 5d, etc.\n"
     ]
    },
    {
     "name": "stdout",
     "output_type": "stream",
     "text": [
      "No dividend data for FBYDW\n",
      "No dividend data for FCUV\n",
      "No dividend data for FDMT\n",
      "No dividend data for FEAM\n",
      "No dividend data for FEBO\n"
     ]
    },
    {
     "name": "stderr",
     "output_type": "stream",
     "text": [
      "FERAR: Period 'max' is invalid, must be of the format 1d, 5d, etc.\n"
     ]
    },
    {
     "name": "stdout",
     "output_type": "stream",
     "text": [
      "No dividend data for FEMY\n",
      "No dividend data for FERAR\n"
     ]
    },
    {
     "name": "stderr",
     "output_type": "stream",
     "text": [
      "FFAIW: Period 'max' is invalid, must be of the format 1d, 5d, etc.\n"
     ]
    },
    {
     "name": "stdout",
     "output_type": "stream",
     "text": [
      "No dividend data for FFAI\n",
      "No dividend data for FFAIW\n",
      "No dividend data for FGEN\n",
      "No dividend data for FGI\n"
     ]
    },
    {
     "name": "stderr",
     "output_type": "stream",
     "text": [
      "FGIWW: Period 'max' is invalid, must be of the format 1d, 5d, etc.\n"
     ]
    },
    {
     "name": "stdout",
     "output_type": "stream",
     "text": [
      "No dividend data for FGIWW\n"
     ]
    },
    {
     "name": "stderr",
     "output_type": "stream",
     "text": [
      "FGMCR: Period 'max' is invalid, must be of the format 1d, 5d, etc.\n"
     ]
    },
    {
     "name": "stdout",
     "output_type": "stream",
     "text": [
      "No dividend data for FGL\n",
      "No dividend data for FGMCR\n",
      "No dividend data for FHTX\n",
      "No dividend data for FKWL\n"
     ]
    },
    {
     "name": "stderr",
     "output_type": "stream",
     "text": [
      "FLDDW: Period 'max' is invalid, must be of the format 1d, 5d, etc.\n"
     ]
    },
    {
     "name": "stdout",
     "output_type": "stream",
     "text": [
      "No dividend data for FLD\n",
      "No dividend data for FLDDW\n",
      "No dividend data for FLGC\n",
      "No dividend data for FLL\n",
      "No dividend data for FLNT\n",
      "No dividend data for FLUX\n",
      "No dividend data for FLWS\n",
      "No dividend data for FLX\n",
      "No dividend data for FLYE\n"
     ]
    },
    {
     "name": "stderr",
     "output_type": "stream",
     "text": [
      "FMSTW: Period 'max' is invalid, must be of the format 1d, 5d, etc.\n"
     ]
    },
    {
     "name": "stdout",
     "output_type": "stream",
     "text": [
      "No dividend data for FMST\n",
      "No dividend data for FMSTW\n",
      "No dividend data for FNGR\n",
      "No dividend data for FNKO\n",
      "No dividend data for FORA\n",
      "No dividend data for FOSL\n",
      "No dividend data for FPAY\n",
      "No dividend data for FRGT\n"
     ]
    },
    {
     "name": "stderr",
     "output_type": "stream",
     "text": [
      "FSHPR: Period 'max' is invalid, must be of the format 1d, 5d, etc.\n"
     ]
    },
    {
     "name": "stdout",
     "output_type": "stream",
     "text": [
      "No dividend data for FRSX\n",
      "No dividend data for FSHPR\n",
      "No dividend data for FTCI\n",
      "No dividend data for FTEK\n",
      "No dividend data for FTEL\n",
      "No dividend data for FTFT\n",
      "No dividend data for FTHM\n",
      "No dividend data for FTRE\n"
     ]
    },
    {
     "name": "stderr",
     "output_type": "stream",
     "text": [
      "FUFUW: Period 'max' is invalid, must be of the format 1d, 5d, etc.\n"
     ]
    },
    {
     "name": "stdout",
     "output_type": "stream",
     "text": [
      "No dividend data for FUFU\n",
      "No dividend data for FUFUW\n",
      "No dividend data for FVNNR\n",
      "No dividend data for GALT\n",
      "No dividend data for GAME\n",
      "No dividend data for GAN\n",
      "No dividend data for GANX\n",
      "No dividend data for GBIO\n",
      "No dividend data for GCL\n",
      "No dividend data for GCTK\n",
      "No dividend data for GDC\n",
      "No dividend data for GDRX\n",
      "No dividend data for GDTC\n",
      "No dividend data for GELS\n",
      "No dividend data for GENK\n",
      "No dividend data for GERN\n",
      "No dividend data for GEVO\n"
     ]
    },
    {
     "name": "stderr",
     "output_type": "stream",
     "text": [
      "GFAIW: Period 'max' is invalid, must be of the format 1d, 5d, etc.\n"
     ]
    },
    {
     "name": "stdout",
     "output_type": "stream",
     "text": [
      "No dividend data for GFAI\n",
      "No dividend data for GFAIW\n"
     ]
    },
    {
     "name": "stderr",
     "output_type": "stream",
     "text": [
      "GGROW: Period 'max' is invalid, must be of the format 1d, 5d, etc.\n"
     ]
    },
    {
     "name": "stdout",
     "output_type": "stream",
     "text": [
      "No dividend data for GGR\n",
      "No dividend data for GGROW\n"
     ]
    },
    {
     "name": "stderr",
     "output_type": "stream",
     "text": [
      "GIBOW: Period 'max' is invalid, must be of the format 1d, 5d, etc.\n"
     ]
    },
    {
     "name": "stdout",
     "output_type": "stream",
     "text": [
      "No dividend data for GIBO\n",
      "No dividend data for GIBOW\n"
     ]
    },
    {
     "name": "stderr",
     "output_type": "stream",
     "text": [
      "GIGGW: Period 'max' is invalid, must be of the format 1d, 5d, etc.\n"
     ]
    },
    {
     "name": "stdout",
     "output_type": "stream",
     "text": [
      "No dividend data for GIFT\n",
      "No dividend data for GIGGW\n",
      "No dividend data for GITS\n",
      "No dividend data for GLE\n",
      "No dividend data for GLMD\n",
      "No dividend data for GLTO\n",
      "No dividend data for GLUE\n",
      "No dividend data for GLXG\n",
      "No dividend data for GLYC\n",
      "No dividend data for GMGI\n",
      "No dividend data for GMHS\n",
      "No dividend data for GMM\n",
      "No dividend data for GNFT\n",
      "No dividend data for GNLN\n",
      "No dividend data for GNLX\n",
      "No dividend data for GNPX\n",
      "No dividend data for GNTA\n",
      "No dividend data for GORV\n",
      "No dividend data for GOSS\n",
      "No dividend data for GOVX\n"
     ]
    },
    {
     "name": "stderr",
     "output_type": "stream",
     "text": [
      "GOVXW: Period 'max' is invalid, must be of the format 1d, 5d, etc.\n"
     ]
    },
    {
     "name": "stdout",
     "output_type": "stream",
     "text": [
      "No dividend data for GOVXW\n"
     ]
    },
    {
     "name": "stderr",
     "output_type": "stream",
     "text": [
      "GPATW: Period 'max' is invalid, must be of the format 1d, 5d, etc.\n"
     ]
    },
    {
     "name": "stdout",
     "output_type": "stream",
     "text": [
      "No dividend data for GP\n",
      "No dividend data for GPATW\n",
      "No dividend data for GPRO\n",
      "No dividend data for GRABW\n",
      "No dividend data for GRCE\n",
      "No dividend data for GRI\n",
      "No dividend data for GRNQ\n"
     ]
    },
    {
     "name": "stderr",
     "output_type": "stream",
     "text": [
      "GRRRW: Period 'max' is invalid, must be of the format 1d, 5d, etc.\n"
     ]
    },
    {
     "name": "stdout",
     "output_type": "stream",
     "text": [
      "No dividend data for GRRRW\n",
      "No dividend data for GRWG\n",
      "No dividend data for GRYP\n",
      "No dividend data for GSIT\n",
      "No dividend data for GSIW\n",
      "No dividend data for GSRTR\n",
      "No dividend data for GSUN\n",
      "No dividend data for GTBP\n",
      "No dividend data for GTEC\n",
      "No dividend data for GTI\n",
      "No dividend data for GTIM\n",
      "No dividend data for GURE\n",
      "No dividend data for GUTS\n",
      "No dividend data for GV\n",
      "No dividend data for GVH\n",
      "No dividend data for GWAV\n",
      "No dividend data for GXAI\n",
      "No dividend data for HAIN\n",
      "No dividend data for HAO\n",
      "No dividend data for HBIO\n",
      "No dividend data for HCAT\n",
      "No dividend data for HCTI\n",
      "No dividend data for HEPS\n",
      "No dividend data for HFFG\n",
      "No dividend data for HGBL\n",
      "No dividend data for HIT\n",
      "No dividend data for HITI\n",
      "No dividend data for HIVE\n",
      "No dividend data for HKIT\n",
      "No dividend data for HKPD\n",
      "No dividend data for HLP\n",
      "No dividend data for HLVX\n",
      "No dividend data for HMR\n"
     ]
    },
    {
     "name": "stderr",
     "output_type": "stream",
     "text": [
      "HOFVW: Period 'max' is invalid, must be of the format 1d, 5d, etc.\n"
     ]
    },
    {
     "name": "stdout",
     "output_type": "stream",
     "text": [
      "No dividend data for HOFV\n",
      "No dividend data for HOFVW\n"
     ]
    },
    {
     "name": "stderr",
     "output_type": "stream",
     "text": [
      "HOLOW: Period 'max' is invalid, must be of the format 1d, 5d, etc.\n",
      "HONDW: Period 'max' is invalid, must be of the format 1d, 5d, etc.\n"
     ]
    },
    {
     "name": "stdout",
     "output_type": "stream",
     "text": [
      "No dividend data for HOLOW\n",
      "No dividend data for HONDW\n",
      "No dividend data for HOOK\n",
      "No dividend data for HOTH\n",
      "No dividend data for HOUR\n"
     ]
    },
    {
     "name": "stderr",
     "output_type": "stream",
     "text": [
      "HOVRW: Period 'max' is invalid, must be of the format 1d, 5d, etc.\n"
     ]
    },
    {
     "name": "stdout",
     "output_type": "stream",
     "text": [
      "No dividend data for HOVR\n",
      "No dividend data for HOVRW\n"
     ]
    },
    {
     "name": "stderr",
     "output_type": "stream",
     "text": [
      "HPAIW: Period 'max' is invalid, must be of the format 1d, 5d, etc.\n"
     ]
    },
    {
     "name": "stdout",
     "output_type": "stream",
     "text": [
      "No dividend data for HOWL\n",
      "No dividend data for HPAIW\n",
      "No dividend data for HPKEW\n"
     ]
    },
    {
     "name": "stderr",
     "output_type": "stream",
     "text": [
      "Exception ignored from cffi callback <function buffer_callback at 0x745325146f80>:\n",
      "Traceback (most recent call last):\n",
      "  File \"/home/ubuntu/env-310/lib/python3.10/site-packages/curl_cffi/curl.py\", line 67, in buffer_callback\n",
      "    @ffi.def_extern()\n",
      "KeyboardInterrupt: \n",
      "$HRTX: possibly delisted; no price data found  (period=5y)\n"
     ]
    },
    {
     "name": "stdout",
     "output_type": "stream",
     "text": [
      "No dividend data for HRTX\n",
      "No dividend data for HSCS\n"
     ]
    },
    {
     "name": "stderr",
     "output_type": "stream",
     "text": [
      "HSPOW: Period 'max' is invalid, must be of the format 1d, 5d, etc.\n",
      "Exception ignored from cffi callback <function buffer_callback at 0x745325146f80>:\n",
      "Traceback (most recent call last):\n",
      "  File \"/home/ubuntu/env-310/lib/python3.10/site-packages/curl_cffi/curl.py\", line 67, in buffer_callback\n",
      "    @ffi.def_extern()\n",
      "KeyboardInterrupt: \n",
      "$HSPOW: possibly delisted; no price data found  (period=5y)\n"
     ]
    },
    {
     "name": "stdout",
     "output_type": "stream",
     "text": [
      "No dividend data for HSDT\n",
      "No dividend data for HSPOW\n"
     ]
    },
    {
     "name": "stderr",
     "output_type": "stream",
     "text": [
      "HSPTR: Period 'max' is invalid, must be of the format 1d, 5d, etc.\n"
     ]
    },
    {
     "name": "stdout",
     "output_type": "stream",
     "text": [
      "No dividend data for HSPTR\n"
     ]
    },
    {
     "name": "stderr",
     "output_type": "stream",
     "text": [
      "Exception ignored from cffi callback <function buffer_callback at 0x745325146f80>:\n",
      "Traceback (most recent call last):\n",
      "  File \"/home/ubuntu/env-310/lib/python3.10/site-packages/curl_cffi/curl.py\", line 67, in buffer_callback\n",
      "    @ffi.def_extern()\n",
      "KeyboardInterrupt: \n",
      "$HTCO: possibly delisted; no price data found  (period=5y)\n",
      "Exception ignored from cffi callback <function buffer_callback at 0x745325146f80>:\n",
      "Traceback (most recent call last):\n",
      "  File \"/home/ubuntu/env-310/lib/python3.10/site-packages/curl_cffi/curl.py\", line 67, in buffer_callback\n",
      "    @ffi.def_extern()\n",
      "KeyboardInterrupt: \n",
      "$HTCR: possibly delisted; no price data found  (period=5y)\n"
     ]
    },
    {
     "name": "stdout",
     "output_type": "stream",
     "text": [
      "No dividend data for HTCO\n"
     ]
    },
    {
     "name": "stderr",
     "output_type": "stream",
     "text": [
      "Exception ignored from cffi callback <function buffer_callback at 0x745325146f80>:\n",
      "Traceback (most recent call last):\n",
      "  File \"/home/ubuntu/env-310/lib/python3.10/site-packages/curl_cffi/curl.py\", line 67, in buffer_callback\n",
      "    @ffi.def_extern()\n",
      "KeyboardInterrupt: \n",
      "$HTLM: possibly delisted; no price data found  (period=5y)\n"
     ]
    },
    {
     "name": "stdout",
     "output_type": "stream",
     "text": [
      "No dividend data for HTLM\n",
      "No dividend data for HTOO\n"
     ]
    },
    {
     "name": "stderr",
     "output_type": "stream",
     "text": [
      "HTZWW: Period 'max' is invalid, must be of the format 1d, 5d, etc.\n"
     ]
    },
    {
     "name": "stdout",
     "output_type": "stream",
     "text": [
      "No dividend data for HTOOW\n",
      "No dividend data for HTZWW\n"
     ]
    },
    {
     "name": "stderr",
     "output_type": "stream",
     "text": [
      "HUBCW: Period 'max' is invalid, must be of the format 1d, 5d, etc.\n"
     ]
    },
    {
     "name": "stdout",
     "output_type": "stream",
     "text": [
      "No dividend data for HUBC\n",
      "No dividend data for HUBCW\n"
     ]
    },
    {
     "name": "stderr",
     "output_type": "stream",
     "text": [
      "HUBCZ: Period 'max' is invalid, must be of the format 1d, 5d, etc.\n"
     ]
    },
    {
     "name": "stdout",
     "output_type": "stream",
     "text": [
      "No dividend data for HUBCZ\n",
      "No dividend data for HUDI\n",
      "No dividend data for HUIZ\n"
     ]
    },
    {
     "name": "stderr",
     "output_type": "stream",
     "text": [
      "HUMAW: Period 'max' is invalid, must be of the format 1d, 5d, etc.\n"
     ]
    },
    {
     "name": "stdout",
     "output_type": "stream",
     "text": [
      "No dividend data for HUMA\n",
      "No dividend data for HUMAW\n"
     ]
    },
    {
     "name": "stderr",
     "output_type": "stream",
     "text": [
      "HVIIR: Period 'max' is invalid, must be of the format 1d, 5d, etc.\n"
     ]
    },
    {
     "name": "stdout",
     "output_type": "stream",
     "text": [
      "No dividend data for HURA\n",
      "No dividend data for HVIIR\n",
      "No dividend data for HWH\n",
      "No dividend data for HXHX\n",
      "No dividend data for HYFM\n",
      "No dividend data for HYMC\n",
      "No dividend data for HYMCL\n"
     ]
    },
    {
     "name": "stderr",
     "output_type": "stream",
     "text": [
      "HYMCW: Period 'max' is invalid, must be of the format 1d, 5d, etc.\n"
     ]
    },
    {
     "name": "stdout",
     "output_type": "stream",
     "text": [
      "No dividend data for HYMCW\n"
     ]
    }
   ],
   "source": [
    "# getting the dividend data for the above stocks\n",
    "\n",
    "\n",
    "def get_dividend_data(tickers):\n",
    "    \"\"\"\n",
    "    Fetches dividend data and calculates dividend yield for a list of tickers over the past 5 years.\n",
    "\n",
    "    Parameters:\n",
    "    tickers (list): List of stock tickers.\n",
    "\n",
    "    Returns:\n",
    "    pd.DataFrame: DataFrame with columns 'Date', 'Ticker', 'Dividend', 'Stock Price', and 'Dividend Yield (%)'.\n",
    "    \"\"\"\n",
    "    all_dividends = []\n",
    "\n",
    "    for ticker in tickers:\n",
    "        #print(f\"Fetching data for {ticker}\")\n",
    "        try:\n",
    "            stock = yf.Ticker(ticker)\n",
    "            dividends = stock.dividends\n",
    "            stock_prices = stock.history(period=\"5y\")['Close']  # Get past 5 years of stock price data\n",
    "        except:\n",
    "            print(f\"Failed to fetch data for {ticker}\")\n",
    "            continue\n",
    "\n",
    "        if dividends.empty:\n",
    "            print(f\"No dividend data for {ticker}\")\n",
    "            continue\n",
    "\n",
    "        # Create a dataframe for dividends\n",
    "        df = pd.DataFrame({\n",
    "            'Date': dividends.index,\n",
    "            'Ticker': ticker,\n",
    "            'Dividend': dividends.values\n",
    "        })\n",
    "\n",
    "        # Fetch stock price at the closest available date before or on dividend date\n",
    "        df['Stock Price'] = df['Date'].apply(lambda x: stock_prices.loc[:x].iloc[-2] if len(stock_prices.loc[:x]) > 1 else None)\n",
    "\n",
    "        # Calculate Dividend Yield (%)\n",
    "        df['Dividend Yield (%)'] = (df['Dividend'] / df['Stock Price']) * 100\n",
    "\n",
    "        all_dividends.append(df)\n",
    "\n",
    "    if all_dividends:\n",
    "        result = pd.concat(all_dividends, ignore_index=True)\n",
    "        result.sort_values(by='Date', inplace=True)\n",
    "        return result.reset_index(drop=True)\n",
    "    else:\n",
    "        print(\"No dividends found for any ticker.\")\n",
    "        return pd.DataFrame(columns=['Date', 'Ticker', 'Dividend', 'Stock Price', 'Dividend Yield (%)'])\n",
    "\n",
    "# Example usage:\n",
    "#tickers = stocks['symbol'].to_list()\n",
    "#df = get_dividend_data(russel_tick)\n",
    "\n",
    "stocks = pd.read_csv('penny_stocks.csv')\n",
    "tickers = stocks['Symbol'].to_list()\n",
    "df = get_dividend_data(tickers)"
   ]
  },
  {
   "cell_type": "code",
   "execution_count": null,
   "id": "c9e074fd-6dbe-40a8-9b7d-1bb93b8e406e",
   "metadata": {},
   "outputs": [],
   "source": [
    "#df.to_csv('russel1000_dividend_last5years.csv')\n",
    "df.to_csv('penny_stocks_dividend_last5years.csv')"
   ]
  },
  {
   "cell_type": "code",
   "execution_count": null,
   "id": "1e664e87-9206-409d-8e56-57a47f360dd0",
   "metadata": {},
   "outputs": [],
   "source": [
    "#df = pd.read_csv('russel1000_dividend_last5years.csv')\n",
    "df.dropna(inplace=True)\n",
    "df.sort_values(by='Date', ascending=False, inplace=True)\n",
    "df"
   ]
  },
  {
   "cell_type": "code",
   "execution_count": null,
   "id": "b6b7b7c3-c74b-4e83-86e6-1c9e71a621df",
   "metadata": {},
   "outputs": [],
   "source": [
    "# computing the last year dividend\n",
    "df[\"Date\"] = pd.to_datetime(df[\"Date\"])\n",
    "\n",
    "# Define the date range for filtering\n",
    "start_date = \"2024-02-17\"\n",
    "end_date = \"2025-05-17\"\n",
    "\n",
    "# Filter data for the last year\n",
    "df_filtered = df[(df[\"Date\"] >= start_date) & (df[\"Date\"] <= end_date)]\n",
    "\n",
    "# Group by Ticker and sum Dividend Yield (%) for the last year\n",
    "df_grouped = df_filtered.groupby(\"Ticker\", as_index=False).agg(\n",
    "    {\"Dividend Yield (%)\": \"sum\"}\n",
    ")\n",
    "\n",
    "# Rename the column to \"Last year Dividend Yield (%)\"\n",
    "df_grouped.rename(columns={\"Dividend Yield (%)\": \"Last year Dividend Yield (%)\"}, inplace=True)\n",
    "\n",
    "# Merge back with the original df to retain all tickers\n",
    "df = df.merge(df_grouped, on=\"Ticker\", how=\"left\")\n",
    "\n",
    "# Fill NaN with 0 for tickers with no dividends in the date range\n",
    "df[\"Last year Dividend Yield (%)\"].fillna(0, inplace=True)"
   ]
  },
  {
   "cell_type": "code",
   "execution_count": null,
   "id": "e1e95fd0-fd07-4d46-9f04-3de9d252977e",
   "metadata": {},
   "outputs": [],
   "source": [
    "# sorted list of the last year dividend\n",
    "import heapq\n",
    "Threshold = 20\n",
    "stack = []\n",
    "heapq.heapify(stack)\n",
    "df.sort_values(by='Last year Dividend Yield (%)', ascending=False, inplace=True)\n",
    "for gr, gr_df in df.groupby(\"Ticker\"):\n",
    "    gr_df.reset_index(drop=True, inplace=True)\n",
    "    gr_df.sort_values(by=\"Date\", ascending=True, inplace=True)\n",
    "    dividend = gr_df.loc[0, 'Last year Dividend Yield (%)']\n",
    "    if dividend > Threshold:\n",
    "        heapq.heappush(stack, (-dividend, gr, gr_df))"
   ]
  },
  {
   "cell_type": "code",
   "execution_count": 19,
   "id": "50d17890-504f-4a56-b580-0ce3a9bcdd06",
   "metadata": {},
   "outputs": [
    {
     "ename": "AssertionError",
     "evalue": "edgar_identity environment variable must be a string like \"user_name email@server.com\"",
     "output_type": "error",
     "traceback": [
      "\u001b[0;31m---------------------------------------------------------------------------\u001b[0m",
      "\u001b[0;31mAssertionError\u001b[0m                            Traceback (most recent call last)",
      "Cell \u001b[0;32mIn[19], line 4\u001b[0m\n\u001b[1;32m      2\u001b[0m \u001b[38;5;28;01mimport\u001b[39;00m\u001b[38;5;250m \u001b[39m\u001b[38;5;21;01msys\u001b[39;00m\n\u001b[1;32m      3\u001b[0m sys\u001b[38;5;241m.\u001b[39mpath\u001b[38;5;241m.\u001b[39mappend(\u001b[38;5;124m\"\u001b[39m\u001b[38;5;124m../\u001b[39m\u001b[38;5;124m\"\u001b[39m)\n\u001b[0;32m----> 4\u001b[0m \u001b[38;5;28;01mfrom\u001b[39;00m\u001b[38;5;250m \u001b[39m\u001b[38;5;21;01mwallstreet_quant\u001b[39;00m\u001b[38;5;21;01m.\u001b[39;00m\u001b[38;5;21;01medgar_extractor\u001b[39;00m\u001b[38;5;250m \u001b[39m\u001b[38;5;28;01mimport\u001b[39;00m \u001b[38;5;241m*\u001b[39m\n\u001b[1;32m      5\u001b[0m filings_list \u001b[38;5;241m=\u001b[39m fetch_10K_and_10Q_filings(\u001b[38;5;124m\"\u001b[39m\u001b[38;5;124mnvda\u001b[39m\u001b[38;5;124m\"\u001b[39m, \u001b[38;5;124m\"\u001b[39m\u001b[38;5;124m2023-01-01\u001b[39m\u001b[38;5;124m\"\u001b[39m, \u001b[38;5;124m\"\u001b[39m\u001b[38;5;124m2025-2-15\u001b[39m\u001b[38;5;124m\"\u001b[39m,form\u001b[38;5;241m=\u001b[39m[\u001b[38;5;124m\"\u001b[39m\u001b[38;5;124m10-Q\u001b[39m\u001b[38;5;124m\"\u001b[39m, \u001b[38;5;124m\"\u001b[39m\u001b[38;5;124m10-K\u001b[39m\u001b[38;5;124m\"\u001b[39m])\n\u001b[1;32m      6\u001b[0m balance_sheets, income_statements, cashflow_statements, balance_sheets_str, income_statements_str, cashflow_statements_str \u001b[38;5;241m=\u001b[39m extract_financials(filings_list)\u001b[38;5;66;03m#\u001b[39;00m\n",
      "File \u001b[0;32m~/Wallstreet-Bets/Notebooks/../wallstreet_quant/edgar_extractor.py:10\u001b[0m\n\u001b[1;32m      7\u001b[0m \u001b[38;5;28;01mimport\u001b[39;00m\u001b[38;5;250m \u001b[39m\u001b[38;5;21;01mos\u001b[39;00m\n\u001b[1;32m      9\u001b[0m edgar_identity \u001b[38;5;241m=\u001b[39m os\u001b[38;5;241m.\u001b[39mgetenv(\u001b[38;5;124m\"\u001b[39m\u001b[38;5;124medgar_identity\u001b[39m\u001b[38;5;124m\"\u001b[39m) \u001b[38;5;66;03m# must be a string like \"user_name email@server.com\"\u001b[39;00m\n\u001b[0;32m---> 10\u001b[0m \u001b[38;5;28;01massert\u001b[39;00m edgar_identity \u001b[38;5;129;01mis\u001b[39;00m \u001b[38;5;129;01mnot\u001b[39;00m \u001b[38;5;28;01mNone\u001b[39;00m, \u001b[38;5;124m'\u001b[39m\u001b[38;5;124medgar_identity environment variable must be a string like \u001b[39m\u001b[38;5;124m\"\u001b[39m\u001b[38;5;124muser_name email@server.com\u001b[39m\u001b[38;5;124m\"\u001b[39m\u001b[38;5;124m'\u001b[39m\n\u001b[1;32m     11\u001b[0m set_identity(edgar_identity)\n\u001b[1;32m     13\u001b[0m \u001b[38;5;28;01mfrom\u001b[39;00m\u001b[38;5;250m \u001b[39m\u001b[38;5;21;01medgar\u001b[39;00m\u001b[38;5;250m \u001b[39m\u001b[38;5;28;01mimport\u001b[39;00m Company\n",
      "\u001b[0;31mAssertionError\u001b[0m: edgar_identity environment variable must be a string like \"user_name email@server.com\""
     ]
    }
   ],
   "source": [
    "#test\n",
    "import sys\n",
    "sys.path.append(\"../\")\n",
    "from wallstreet_quant.edgar_extractor import *\n",
    "filings_list = fetch_10K_and_10Q_filings(\"nvda\", \"2023-01-01\", \"2025-2-15\",form=[\"10-Q\", \"10-K\"])\n",
    "balance_sheets, income_statements, cashflow_statements, balance_sheets_str, income_statements_str, cashflow_statements_str = extract_financials(filings_list)#"
   ]
  },
  {
   "cell_type": "code",
   "execution_count": 3,
   "id": "efcb5c9c-eace-42ba-80d4-c1953eff3fa5",
   "metadata": {},
   "outputs": [],
   "source": [
    "# Example usage:\n",
    "filings_list = fetch_10K_and_10Q_filings(\"RCM\", \"2023-01-01\", \"2025-6-6\",form=[\"10-K\"]) # SHOP CRWD\n",
    "#balance_sheets, income_statements, cashflow_statements, balance_sheets_str, income_statements_str, cashflow_statements_str = extract_financials(filings_list)\n"
   ]
  },
  {
   "cell_type": "code",
   "execution_count": 4,
   "id": "0a452423-5751-40ce-8ef3-9bc632b06b19",
   "metadata": {},
   "outputs": [
    {
     "data": {
      "text/html": [
       "<pre style=\"white-space:pre;overflow-x:auto;line-height:normal;font-family:Menlo,'DejaVu Sans Mono',consolas,'Courier New',monospace\"></pre>\n"
      ],
      "text/plain": []
     },
     "metadata": {},
     "output_type": "display_data"
    },
    {
     "data": {
      "text/plain": [
       "╭────────────────────────────────── \u001b[1m📊 Form 10-K \u001b[0m\u001b[1;32mR1 RCM Inc. /DE\u001b[0m \u001b[2m[1910851] \u001b[0m\u001b[1;33mRCM\u001b[0m ───────────────────────────────────╮\n",
       "│                                                                                                                 │\n",
       "│  \u001b[2m \u001b[0m\u001b[2mAccession Number    \u001b[0m\u001b[2m \u001b[0m \u001b[2m \u001b[0m\u001b[2mFiling Date\u001b[0m\u001b[2m \u001b[0m \u001b[2m \u001b[0m\u001b[2mPeriod of Report\u001b[0m\u001b[2m \u001b[0m \u001b[2m \u001b[0m\u001b[2mDocuments\u001b[0m\u001b[2m \u001b[0m                                            │\n",
       "│  ───────────────────────────────────────────────────────────────────                                            │\n",
       "│   \u001b[1;38;5;39m0001628280-23-003926\u001b[0m   \u001b[1m2023-02-16 \u001b[0m   \u001b[1m2022-12-31      \u001b[0m   128                                                   │\n",
       "│                                                                                                                 │\n",
       "╰──────────────────────────────────────\u001b[2m Annual report for public companies \u001b[0m───────────────────────────────────────╯"
      ]
     },
     "execution_count": 4,
     "metadata": {},
     "output_type": "execute_result"
    }
   ],
   "source": [
    "len(filings_list)\n",
    "filings_list[1]"
   ]
  },
  {
   "cell_type": "code",
   "execution_count": 5,
   "id": "eda49f8d-e86f-40a2-b8a8-06e7b74f48d4",
   "metadata": {},
   "outputs": [
    {
     "data": {
      "text/html": [
       "<pre style=\"white-space:pre;overflow-x:auto;line-height:normal;font-family:Menlo,'DejaVu Sans Mono',consolas,'Courier New',monospace\"></pre>\n"
      ],
      "text/plain": []
     },
     "metadata": {},
     "output_type": "display_data"
    },
    {
     "data": {
      "text/html": [
       "<pre style=\"white-space:pre;overflow-x:auto;line-height:normal;font-family:Menlo,'DejaVu Sans Mono',consolas,'Courier New',monospace\"></pre>\n"
      ],
      "text/plain": []
     },
     "metadata": {},
     "output_type": "display_data"
    }
   ],
   "source": [
    "if filings_list:\n",
    "    prev = extract_items_from_filing(filings_list[1], items_to_extract=[\"1\", \"1A\", \"2\", \"3\", \"4\", \"7\", \"9A\"]) \n",
    "    last = extract_items_from_filing(filings_list[0], items_to_extract=[\"1\", \"1A\", \"2\", \"3\", \"4\", \"7\", \"9A\"])"
   ]
  },
  {
   "cell_type": "code",
   "execution_count": 9,
   "id": "2504d8b3-54d4-4fd3-84d1-278e7a9c13db",
   "metadata": {},
   "outputs": [],
   "source": [
    "from typing import List, Optional\n",
    "from pydantic import BaseModel, Field\n",
    "from openai import OpenAI\n",
    "from enum import Enum\n",
    "\n",
    "client = OpenAI()\n",
    "\n",
    "class BuyRecommendation(str, Enum):\n",
    "    positive = \"positive\"\n",
    "    neutral = \"neutral\"\n",
    "    negative = \"negative\"\n",
    "\n",
    "# ---------- 1. Risk Factors  (Item 1A, 10-K; Part II-Item 1A, 10-Q) ----------\n",
    "class RiskChange(BaseModel):\n",
    "    description: str\n",
    "\n",
    "class RiskFactorsChanges(BaseModel):\n",
    "    changes_detected: bool\n",
    "    added_risks: List[RiskChange] = []\n",
    "    removed_risks: List[RiskChange] = []\n",
    "    buy_recommendation: BuyRecommendation\n",
    "\n",
    "def risk_factor_analysis(previous_1A_text: str, current_1A_text: str, model=\"gpt-4o-mini\"):\n",
    "    prompt_risk = f\"\"\"\n",
    "    You are analyzing the 'Risk Factors' section (Item 1A) for the current and previous 10-K document and making a buy recommendation.  \n",
    "    Task: compare it with the prior filing and return a response conforming to RiskFactorsChanges:\n",
    "    - changes_detected: true/false  \n",
    "    - added_risks / removed_risks: list each change (1-sentence description).\n",
    "    - buy_recommendation: positive, negative, neutral\n",
    "    \n",
    "    Previous Item 1A:\n",
    "    {previous_1A_text}\n",
    "    ------------------\n",
    "    Current Item 1A:\n",
    "    {current_1A_text}\n",
    "    \"\"\"\n",
    "    risk_out = client.responses.parse(\n",
    "        model=model,\n",
    "        input=[{\"role\":\"system\",\"content\":\"You are a rigorous SEC-filing analyst.\"},\n",
    "                  {\"role\":\"user\",\"content\":prompt_risk}],\n",
    "        text_format=RiskFactorsChanges\n",
    "    )\n",
    "    risk_out = risk_out.output_parsed\n",
    "    return risk_out\n",
    "\n",
    "risk = risk_factor_analysis(prev['1A'], last['1A'], model=\"gpt-4o-mini\")"
   ]
  },
  {
   "cell_type": "code",
   "execution_count": 10,
   "id": "b83d054e-4a21-44e1-a443-fb067fd86203",
   "metadata": {},
   "outputs": [
    {
     "data": {
      "text/plain": [
       "RiskFactorsChanges(changes_detected=True, added_risks=[RiskChange(description='Introduction of the Acclara Acquisition, which may pose integration challenges and affect financial performance.'), RiskChange(description='Increased concerns regarding customer credit losses related to clients with financial issues, particularly impacting revenue collections.'), RiskChange(description='Amplification of risks associated with macroeconomic pressures, including inflation and interest rate fluctuations, affecting both operational costs and client capabilities to meet payment obligations.')], removed_risks=[RiskChange(description='Previously identified lower healthcare volumes are no longer emphasized, possibly indicating a recovery in patient volumes.'), RiskChange(description='Shift from specific risks related to regulatory changes affecting physician groups, with updates indicating an ongoing stabilizing environment.')], buy_recommendation=<BuyRecommendation.positive: 'positive'>)"
      ]
     },
     "execution_count": 10,
     "metadata": {},
     "output_type": "execute_result"
    }
   ],
   "source": [
    "risk"
   ]
  },
  {
   "cell_type": "code",
   "execution_count": null,
   "id": "8d625e87-4d6f-4207-95e6-a6086b15bf95",
   "metadata": {},
   "outputs": [],
   "source": [
    "\n",
    "\n",
    "\n",
    "# ---------- 2. MD&A Drivers & Forward-Looking  (Item 7, 10-K; Item 2, 10-Q) ----------\n",
    "class MDADetails(BaseModel):\n",
    "    performance_drivers: List[str]\n",
    "    forward_looking_statements: List[str]\n",
    "\n",
    "prompt_mda = f\"\"\"\n",
    "From the MD&A (Item 7 / Item 2) extract:\n",
    "- performance_drivers: key factors mgmt says drove recent results (list).  \n",
    "- forward_looking_statements: explicit outlook or plans.  \n",
    "Return as MDADetails.\n",
    "\n",
    "SECTION:\n",
    "{section_text}\n",
    "\"\"\"\n",
    "\n",
    "mda_out = client.beta.chat.completions.parse(\n",
    "    model=\"gpt-4o-mini\",\n",
    "    messages=[{\"role\":\"system\",\"content\":\"You are a rigorous SEC-filing analyst.\"},\n",
    "              {\"role\":\"user\",\"content\":prompt_mda}],\n",
    "    text_format=MDADetails\n",
    ")\n",
    "\n",
    "\n",
    "# ---------- 3. Legal Proceedings  (Item 3, 10-K; Part II-Item 1, 10-Q) ----------\n",
    "class Proceeding(BaseModel):\n",
    "    case: str\n",
    "    description: str\n",
    "    potential_impact: str\n",
    "\n",
    "class LegalMatters(BaseModel):\n",
    "    material_legal_proceedings: bool\n",
    "    proceedings: List[Proceeding] = []\n",
    "\n",
    "prompt_legal = f\"\"\"\n",
    "Summarize all ongoing or pending matters in 'Legal Proceedings' (Item 3).  \n",
    "Return JSON as LegalMatters.\n",
    "\n",
    "SECTION:\n",
    "{section_text}\n",
    "\"\"\"\n",
    "\n",
    "legal_out = client.beta.chat.completions.parse(\n",
    "    model=\"gpt-4o-mini\",\n",
    "    messages=[{\"role\":\"system\",\"content\":\"You are a rigorous SEC-filing analyst.\"},\n",
    "              {\"role\":\"user\",\"content\":prompt_legal}],\n",
    "    text_format=LegalMatters\n",
    ")\n",
    "\n",
    "\n",
    "# ---------- 4. Controls & Procedures  (Item 9A, 10-K; Item 4, 10-Q) ----------\n",
    "class Weakness(BaseModel):\n",
    "    area: str\n",
    "    description: str\n",
    "\n",
    "class ControlsStatus(BaseModel):\n",
    "    material_weaknesses_disclosed: bool\n",
    "    weaknesses: List[Weakness] = []\n",
    "\n",
    "prompt_ctrl = f\"\"\"\n",
    "In 'Controls and Procedures' (Item 9A / Item 4) identify any material weaknesses.  \n",
    "Return JSON as ControlsStatus.\n",
    "\n",
    "SECTION:\n",
    "{section_text}\n",
    "\"\"\"\n",
    "\n",
    "ctrl_out = client.beta.chat.completions.parse(\n",
    "    model=\"gpt-4o-mini\",\n",
    "    messages=[{\"role\":\"system\",\"content\":\"You are a rigorous SEC-filing analyst.\"},\n",
    "              {\"role\":\"user\",\"content\":prompt_ctrl}],\n",
    "    text_format=ControlsStatus\n",
    ")\n",
    "\n",
    "\n",
    "# ---------- 5. Business Overview & Segments  (Item 1, 10-K) ----------\n",
    "class Segment(BaseModel):\n",
    "    name: str\n",
    "    description: str\n",
    "\n",
    "class BusinessInfo(BaseModel):\n",
    "    segments: List[Segment]\n",
    "    segment_changes: List[str]\n",
    "\n",
    "prompt_business = f\"\"\"\n",
    "From 'Business' (Item 1) list current reportable segments and note any changes.  \n",
    "Return JSON as BusinessInfo.\n",
    "\n",
    "SECTION:\n",
    "{section_text}\n",
    "\"\"\"\n",
    "\n",
    "business_out = client.beta.chat.completions.parse(\n",
    "    model=\"gpt-4o-mini\",\n",
    "    messages=[{\"role\":\"system\",\"content\":\"You are a rigorous SEC-filing analyst.\"},\n",
    "              {\"role\":\"user\",\"content\":prompt_business}],\n",
    "    text_format=BusinessInfo\n",
    ")\n",
    "\n",
    "\n",
    "# ---------- 6. Language Shift (MD&A tone) ----------\n",
    "class ShiftExample(BaseModel):\n",
    "    previous: str\n",
    "    current: str\n",
    "\n",
    "class ToneShift(BaseModel):\n",
    "    language_shift_detected: bool\n",
    "    examples: List[ShiftExample] = []\n",
    "\n",
    "prompt_shift = f\"\"\"\n",
    "Compare current MD&A wording with the prior filing and detect tone/hedging shifts.  \n",
    "Return JSON as ToneShift (max 3 illustrative examples).\n",
    "\n",
    "SECTION:\n",
    "{section_text}\n",
    "\"\"\"\n",
    "\n",
    "shift_out = client.beta.chat.completions.parse(\n",
    "    model=\"gpt-4o-mini\",\n",
    "    messages=[{\"role\":\"system\",\"content\":\"You are a rigorous SEC-filing analyst.\"},\n",
    "              {\"role\":\"user\",\"content\":prompt_shift}],\n",
    "    text_format=ToneShift\n",
    ")\n",
    "\n",
    "\n",
    "# ---------- 7. Commitments & Contingencies  (Notes to FS) ----------\n",
    "class Arrangement(BaseModel):\n",
    "    type: str\n",
    "    description: str\n",
    "\n",
    "class Commitments(BaseModel):\n",
    "    off_balance_sheet_arrangements: bool\n",
    "    arrangements: List[Arrangement] = []\n",
    "\n",
    "prompt_commit = f\"\"\"\n",
    "From the 'Commitments and Contingencies' footnote identify any off-balance-sheet items.  \n",
    "Return JSON as Commitments.\n",
    "\n",
    "SECTION:\n",
    "{section_text}\n",
    "\"\"\"\n",
    "\n",
    "commit_out = client.beta.chat.completions.parse(\n",
    "    model=\"gpt-4o-mini\",\n",
    "    messages=[{\"role\":\"system\",\"content\":\"You are a rigorous SEC-filing analyst.\"},\n",
    "              {\"role\":\"user\",\"content\":prompt_commit}],\n",
    "    text_format=Commitments\n",
    ")\n",
    "\n",
    "\n",
    "# ---------- 8. Segment Performance & Strategy  (MD&A & Segment Note) ----------\n",
    "class SegmentPerf(BaseModel):\n",
    "    name: str\n",
    "    performance: str\n",
    "    strategic_changes: Optional[str]\n",
    "\n",
    "class SegPerfSummary(BaseModel):\n",
    "    segments: List[SegmentPerf]\n",
    "\n",
    "prompt_segperf = f\"\"\"\n",
    "Summarize each business segment’s performance and any strategic changes (MD&A &\n",
    "segment note). Return JSON as SegPerfSummary.\n",
    "\n",
    "SECTION:\n",
    "{section_text}\n",
    "\"\"\"\n",
    "\n",
    "segperf_out = client.beta.chat.completions.parse(\n",
    "    model=\"gpt-4o-mini\",\n",
    "    messages=[{\"role\":\"system\",\"content\":\"You are a rigorous SEC-filing analyst.\"},\n",
    "              {\"role\":\"user\",\"content\":prompt_segperf}],\n",
    "    text_format=SegPerfSummary\n",
    ")\n",
    "\n",
    "\n",
    "# ---------- 9. Human Capital & ESG  (Item 1 – “Human Capital Resources”) ----------\n",
    "class HCDetail(BaseModel):\n",
    "    category: str\n",
    "    description: str\n",
    "\n",
    "class HCReport(BaseModel):\n",
    "    human_capital_changes: bool\n",
    "    details: List[HCDetail] = []\n",
    "\n",
    "prompt_hc = f\"\"\"\n",
    "From the 'Human Capital Resources' / ESG discussion (Item 1), note any significant\n",
    "updates (headcount, retention, labor disputes, ESG initiatives).  \n",
    "Return JSON as HCReport.\n",
    "\n",
    "SECTION:\n",
    "{section_text}\n",
    "\"\"\"\n",
    "\n",
    "hc_out = client.beta.chat.completions.parse(\n",
    "    model=\"gpt-4o-mini\",\n",
    "    messages=[{\"role\":\"system\",\"content\":\"You are a rigorous SEC-filing analyst.\"},\n",
    "              {\"role\":\"user\",\"content\":prompt_hc}],\n",
    "    text_format=HCReport\n",
    ")\n",
    "\n",
    "\n",
    "# ---------- 10. Strategy & Outlook  (MD&A “Outlook” subsection) ----------\n",
    "class GuidanceChange(BaseModel):\n",
    "    previous_guidance: str\n",
    "    revised_guidance: str\n",
    "\n",
    "class StrategyOutlook(BaseModel):\n",
    "    strategic_priorities: List[str]\n",
    "    guidance_revisions: List[GuidanceChange]\n",
    "\n",
    "prompt_outlook = f\"\"\"\n",
    "Extract management’s strategic priorities and any guidance revisions from the\n",
    "'Outlook' subsection of MD&A. Return JSON as StrategyOutlook.\n",
    "\n",
    "SECTION:\n",
    "{section_text}\n",
    "\"\"\"\n",
    "\n",
    "outlook_out = client.beta.chat.completions.parse(\n",
    "    model=\"gpt-4o-mini\",\n",
    "    messages=[{\"role\":\"system\",\"content\":\"You are a rigorous SEC-filing analyst.\"},\n",
    "              {\"role\":\"user\",\"content\":prompt_outlook}],\n",
    "    text_format=StrategyOutlook\n",
    ")\n",
    "\n",
    "\n",
    "# ---------- Example: print one result ----------\n",
    "print(risk_out.model_dump())\n"
   ]
  },
  {
   "cell_type": "code",
   "execution_count": null,
   "id": "499ce5cd-0198-43f4-86ff-1e737d4ccaca",
   "metadata": {},
   "outputs": [],
   "source": [
    "# Open ai financial health assessment\n",
    "\n",
    "from pydantic import BaseModel\n",
    "from openai import OpenAI\n",
    "\n",
    "client = OpenAI()\n",
    "\n",
    "class Step(BaseModel):\n",
    "    justification: str\n",
    "\n",
    "class Assessment(BaseModel):\n",
    "    steps: list[Step]\n",
    "    trends: str\n",
    "    approve: bool\n",
    "    \n",
    "def assess(income_statements_str, cashflow_statements_str, balance_sheets_str):\n",
    "    completion = client.beta.chat.completions.parse(\n",
    "        model=\"o3-mini\",\n",
    "        reasoning_effort= \"high\",\n",
    "        messages=[\n",
    "            {\"role\": \"system\", \"content\": \"\"\"You are a financial advisor. You are provided the last two years worth of financial data based on 10-K and 10-K documnent for a company.\n",
    "            The goal is to buy the most promising dividend stock. Whether or not a stock is a dividend stock is not for you to extract but you are looking at the financial health of the company and your primary goal is to avoid risk.\n",
    "            You must provide me with the trends over the past two years, your step by step justification of your assessment and whether or not you approve this purchase considering the potential risks to this company.\"\"\"},\n",
    "            {\"role\": \"user\", \"content\": f\"\"\"Here are the balance sheets, income statements, and cashflow statements for the past three years.\\n\\n\n",
    "            Income statements:\\n{income_statements_str}\\n\\nCashflow statements:\\n{cashflow_statements_str}\\n\\nBalance sheets:\\n{balance_sheets_str}\n",
    "            \"\"\"},\n",
    "        ],\n",
    "        response_format=Assessment,\n",
    "    )\n",
    "    \n",
    "    assessment = completion.choices[0].message.parsed\n",
    "    return assessment"
   ]
  },
  {
   "cell_type": "code",
   "execution_count": null,
   "id": "d8910587-5c78-4e49-bf0c-0ac5fbc8a263",
   "metadata": {},
   "outputs": [],
   "source": [
    "from pprint import pp"
   ]
  },
  {
   "cell_type": "code",
   "execution_count": null,
   "id": "3a40da76-2728-4ab7-8a4d-6e4a85caa8d9",
   "metadata": {
    "scrolled": true
   },
   "outputs": [],
   "source": [
    "# processing the balance sheets\n",
    "from tqdm import tqdm\n",
    "balance_sheet_approved = {}\n",
    "balance_sheet_rejected = {}\n",
    "for i in tqdm(range(len(stack))):\n",
    "    try:\n",
    "        dividend, gr, gr_df = stack[i]\n",
    "        filings_list = fetch_10K_and_10Q_filings(gr, \"2023-01-01\", \"2025-5-15\",form=[\"10-Q\", \"10-K\"])\n",
    "        _, _, _, balance_sheets_str, income_statements_str, cashflow_statements_str = extract_financials(filings_list)\n",
    "        assessment = assess(income_statements_str, cashflow_statements_str, balance_sheets_str)\n",
    "        if assessment.approve:\n",
    "            balance_sheet_approved[gr] = (dividend, assessment.trends, gr_df)\n",
    "        else:\n",
    "            balance_sheet_rejected[gr] = (dividend, assessment.trends, gr_df)\n",
    "    except Exception as e:\n",
    "        print(e)\n",
    "    "
   ]
  },
  {
   "cell_type": "code",
   "execution_count": null,
   "id": "7aae71fb-a755-458d-8205-7c4b71fab163",
   "metadata": {},
   "outputs": [],
   "source": [
    "import pickle\n",
    "\n",
    "with open('investment_grade_dividend_penny_stocks.pkl', 'wb') as f:\n",
    "    pickle.dump(balance_sheet_approved, f)"
   ]
  },
  {
   "cell_type": "code",
   "execution_count": null,
   "id": "0ab57bff-7eec-4401-aa85-ca6711bca799",
   "metadata": {},
   "outputs": [],
   "source": [
    "balance_sheet_rejected"
   ]
  },
  {
   "cell_type": "code",
   "execution_count": null,
   "id": "ac774c8e-1a18-4eef-8cb8-bbabcf91559a",
   "metadata": {},
   "outputs": [],
   "source": [
    "import yfinance as yf\n",
    "import pandas as pd\n",
    "import matplotlib.pyplot as plt\n",
    "import numpy as np\n",
    "\n",
    "ticker = 'CIG' #'UPS' 'CIG' 'KO' 'O' 'UPBD', 'M'\n",
    "\n",
    "# Initialize DataFrames to store data\n",
    "all_dividends = pd.DataFrame()\n",
    "all_prices = pd.DataFrame()\n",
    "stock = yf.Ticker(ticker)\n",
    "\n",
    "# Get dividend history\n",
    "dividends = stock.dividends.reset_index()\n",
    "dividends['Ticker'] = ticker\n",
    "\n",
    "# Get historical price data\n",
    "prices = stock.history(period=\"max\").reset_index()[['Date', 'Close']]\n",
    "prices['Ticker'] = ticker\n",
    "\n",
    "# Get financial data (includes net income)\n",
    "try:\n",
    "    # Get annual financials\n",
    "    financials = stock.financials\n",
    "    # Net income is typically in the first row\n",
    "    net_income = financials.loc['Net Income'] if 'Net Income' in financials.index else None\n",
    "    \n",
    "    # If Net Income not found, try alternative names\n",
    "    if net_income is None:\n",
    "        for possible_name in ['Total Revenue', 'Revenue', 'Net Income Common Stockholders']:\n",
    "            if possible_name in financials.index:\n",
    "                net_income = financials.loc[possible_name]\n",
    "                break\n",
    "    \n",
    "    if net_income is not None:\n",
    "        # Convert to DataFrame and reset index\n",
    "        net_income_df = net_income.reset_index()\n",
    "        net_income_df.columns = ['Date', 'Net_Income']\n",
    "        net_income_df['Net_Income'] = net_income_df['Net_Income'] / 1e9  # Convert to billions\n",
    "        net_income_df.set_index('Date', inplace=True)\n",
    "    else:\n",
    "        net_income_df = pd.DataFrame()\n",
    "        \n",
    "except Exception as e:\n",
    "    print(f\"Warning: Could not fetch financial data: {e}\")\n",
    "    net_income_df = pd.DataFrame()\n",
    "\n",
    "# Append to the main DataFrames\n",
    "all_dividends = pd.concat([all_dividends, dividends], ignore_index=True)\n",
    "all_prices = pd.concat([all_prices, prices], ignore_index=True)\n",
    "\n",
    "# Set the date as the index\n",
    "all_dividends.set_index('Date', inplace=True)\n",
    "all_prices.set_index('Date', inplace=True)\n",
    "\n",
    "div_data = all_dividends[all_dividends['Ticker'] == ticker]\n",
    "price_data = all_prices[all_prices['Ticker'] == ticker]\n",
    "\n",
    "# Aligning the indices to ensure proper plotting\n",
    "combined_data = pd.merge(price_data, div_data[['Dividends']], left_index=True, right_index=True, how='outer')\n",
    "\n",
    "# Create the plot with three subplots\n",
    "fig, (ax1, ax2, ax3) = plt.subplots(3, 1, figsize=(14, 12), sharex=True)\n",
    "\n",
    "# Plot 1: Dividends\n",
    "ax1.stem(combined_data.index, combined_data['Dividends'].fillna(0), \n",
    "         linefmt='blue', markerfmt='bo', basefmt=\" \", label='Dividends')\n",
    "ax1.set_ylabel('Dividends ($)', color='blue')\n",
    "ax1.tick_params(axis='y', labelcolor='blue')\n",
    "ax1.set_title(f'{ticker} - Dividends Over Time')\n",
    "ax1.grid(True, alpha=0.3)\n",
    "\n",
    "# Plot 2: Stock Price\n",
    "ax2.plot(combined_data.index, combined_data['Close'], color='red', linewidth=1.5, label='Close Price')\n",
    "ax2.set_ylabel('Close Price ($)', color='red')\n",
    "ax2.tick_params(axis='y', labelcolor='red')\n",
    "ax2.set_title(f'{ticker} - Stock Price Over Time')\n",
    "ax2.grid(True, alpha=0.3)\n",
    "\n",
    "# Plot 3: Net Income (if available)\n",
    "if not net_income_df.empty:\n",
    "    ax3.bar(net_income_df.index, net_income_df['Net_Income'], \n",
    "            color='green', alpha=0.7, width=200, label='Net Income')\n",
    "    ax3.set_ylabel('Net Income (Billions $)', color='green')\n",
    "    ax3.tick_params(axis='y', labelcolor='green')\n",
    "    ax3.set_title(f'{ticker} - Annual Net Income')\n",
    "    ax3.grid(True, alpha=0.3)\n",
    "    \n",
    "    # Add value labels on bars\n",
    "    for date, value in zip(net_income_df.index, net_income_df['Net_Income']):\n",
    "        ax3.text(date, value + (max(net_income_df['Net_Income']) * 0.01), \n",
    "                f'${value:.1f}B', ha='center', va='bottom', fontsize=8)\n",
    "else:\n",
    "    ax3.text(0.5, 0.5, 'Net Income data not available', \n",
    "             transform=ax3.transAxes, ha='center', va='center', fontsize=12)\n",
    "    ax3.set_title(f'{ticker} - Net Income (Data Not Available)')\n",
    "\n",
    "ax3.set_xlabel('Date')\n",
    "\n",
    "# Adjust layout and show\n",
    "plt.tight_layout()\n",
    "plt.show()\n",
    "\n",
    "# Print summary statistics\n",
    "print(f\"\\n=== {ticker} Summary Statistics ===\")\n",
    "print(f\"Dividend Stats:\")\n",
    "print(f\"  Total Dividends Paid: {div_data['Dividends'].sum():.2f}\")\n",
    "print(f\"  Average Dividend: {div_data['Dividends'].mean():.2f}\")\n",
    "print(f\"  Latest Dividend: {div_data['Dividends'].iloc[-1]:.2f}\" if not div_data.empty else \"  No dividend data\")\n",
    "\n",
    "print(f\"\\nPrice Stats:\")\n",
    "print(f\"  Current Price: ${price_data['Close'].iloc[-1]:.2f}\" if not price_data.empty else \"  No price data\")\n",
    "print(f\"  52-Week High: ${price_data['Close'].max():.2f}\" if not price_data.empty else \"\")\n",
    "print(f\"  52-Week Low: ${price_data['Close'].min():.2f}\" if not price_data.empty else \"\")\n",
    "\n",
    "if not net_income_df.empty:\n",
    "    print(f\"\\nNet Income Stats:\")\n",
    "    print(f\"  Latest Net Income: ${net_income_df['Net_Income'].iloc[-1]:.1f}B\")\n",
    "    print(f\"  Average Net Income: ${net_income_df['Net_Income'].mean():.1f}B\")"
   ]
  },
  {
   "cell_type": "code",
   "execution_count": null,
   "id": "a0bf6e8f-60cf-41e4-be59-e098e00a46ac",
   "metadata": {},
   "outputs": [],
   "source": []
  }
 ],
 "metadata": {
  "kernelspec": {
   "display_name": "Python 3 (ipykernel)",
   "language": "python",
   "name": "python3"
  },
  "language_info": {
   "codemirror_mode": {
    "name": "ipython",
    "version": 3
   },
   "file_extension": ".py",
   "mimetype": "text/x-python",
   "name": "python",
   "nbconvert_exporter": "python",
   "pygments_lexer": "ipython3",
   "version": "3.10.16"
  }
 },
 "nbformat": 4,
 "nbformat_minor": 5
}
