{
 "cells": [
  {
   "cell_type": "markdown",
   "id": "da2c450e-9cc4-47c4-90a8-427791123793",
   "metadata": {},
   "source": [
    "# Greenblatt Magic formula\n",
    "\n",
    "## The Magic Formula: Explanation and Formula\n",
    "\n",
    "The **Magic Formula** is an investment strategy developed by **Joel Greenblatt** to identify high-quality companies that are also undervalued. It ranks companies based on two key financial ratios:\n",
    "\n",
    "---\n",
    "\n",
    "## 📌 Core Idea\n",
    "\n",
    "> **Buy good companies at cheap prices.**\n",
    "\n",
    "The strategy identifies:\n",
    "- **\"Good companies\"** → those with high returns on capital (efficient use of capital).\n",
    "- **\"Cheap companies\"** → those with high earnings yield (undervalued based on operating profits).\n",
    "\n",
    "---\n",
    "\n",
    "## 🧮 The Formula\n",
    "\n",
    "1. **Earnings Yield (EY):**\n",
    "$$\n",
    "\\text{Earnings Yield} = \\frac{\\text{EBIT}}{\\text{Enterprise Value}}\n",
    "$$\n",
    "- Measures how cheap the stock is.\n",
    "- EBIT = Earnings Before Interest and Taxes\n",
    "- Enterprise Value = Market Cap + Debt - Cash\n",
    "\n",
    "2. **Return on Capital (ROC):**\n",
    "$$\n",
    "\\text{Return on Capital} = \\frac{\\text{EBIT}}{\\text{Net Working Capital} + \\text{Net Fixed Assets}}\n",
    "$$\n",
    "- Measures the quality of the business (how efficiently it uses its capital).\n",
    "\n",
    "---\n",
    "\n",
    "## 🔍 Implementation Steps\n",
    "\n",
    "1. **Filter the universe**: Remove financials, utilities, and companies with very small market cap.\n",
    "2. **Rank all remaining stocks** by:\n",
    "   - Earnings Yield (high = better)\n",
    "   - Return on Capital (high = better)\n",
    "3. **Compute combined rank**:\n",
    "   $$\n",
    "   \\text{Combined Rank} = \\text{Rank}_{EY} + \\text{Rank}_{ROC}\n",
    "   $$\n",
    "4. **Sort by Combined Rank** (lowest = best overall).\n",
    "5. **Pick top N stocks** (e.g., top 20–30).\n",
    "6. **Hold for 1 year**, rebalance annually.\n",
    "\n",
    "---\n",
    "\n",
    "## ✅ Why It Works\n",
    "\n",
    "- Avoids paying too much for popular stocks.\n",
    "- Focuses on operationally efficient, consistently profitable companies.\n",
    "- Enforces a disciplined, rules-based approach.\n",
    "\n",
    "---\n",
    "\n",
    "## ⚠️ Notes and Caveats\n",
    "\n",
    "- Avoids subjective judgement; however, **screening accuracy** depends on **quality of financial data**.\n",
    "- May underperform in short-term or irrational markets.\n",
    "- Works best over a multi-year horizon (3–5+ years).\n",
    "- I have added a minimum 40% margin restriction to the original formula. \n",
    "\n",
    "---\n"
   ]
  },
  {
   "cell_type": "code",
   "execution_count": 1,
   "id": "51197021-515e-4963-a7b7-3a8075cc3eb6",
   "metadata": {},
   "outputs": [],
   "source": [
    "import os\n",
    "from tenacity import retry, stop_after_attempt, wait_exponential\n",
    "import requests\n",
    "import pandas as pd\n",
    "from tqdm import tqdm\n",
    "\n",
    "api_key = os.getenv('financial_modeling_prep_api_key')\n",
    "assert api_key is not None"
   ]
  },
  {
   "cell_type": "code",
   "execution_count": 2,
   "id": "7da2bbc2-aec9-45a8-9bce-1095fb3281a6",
   "metadata": {},
   "outputs": [],
   "source": [
    "\n",
    "\n",
    "# Retry settings: 5 attempts with exponential backoff\n",
    "@retry(stop=stop_after_attempt(5), wait=wait_exponential(multiplier=1, min=10, max=60))\n",
    "def fetch_json(url):\n",
    "    response = requests.get(url)\n",
    "    response.raise_for_status()\n",
    "    return response.json()\n",
    "\n",
    "def get_magic_formula(api_key, symbols, minimum_margin=0.4, minimum_marketcap=500000000):\n",
    "    base_url = \"https://financialmodelingprep.com/stable\"\n",
    "\n",
    "    results = []\n",
    "\n",
    "    for symbol in tqdm(symbols, desc=\"Processing symbols\"):\n",
    "        try:\n",
    "            # check market cap\n",
    "            profile_url = f\"{base_url}/enterprise-values?symbol={symbol}&apikey={api_key}\"\n",
    "            profile_data = fetch_json(profile_url)\n",
    "            if not profile_data or profile_data[0].get('marketCapitalization') < minimum_marketcap:\n",
    "                continue\n",
    "\n",
    "            # Check sector\n",
    "            profile_url = f\"{base_url}/search-exchange-variants?symbol={symbol}&apikey={api_key}\"\n",
    "            profile_data = fetch_json(profile_url)\n",
    "            if not profile_data or profile_data[0].get('sector') in ['Financial Services', \"Real Estate\"]:\n",
    "                continue\n",
    "\n",
    "            # Step 2: Fetch income statement\n",
    "            income_url = f\"{base_url}/income-statement/?symbol={symbol}&apikey={api_key}\"\n",
    "            income_data = fetch_json(income_url)[0]\n",
    "\n",
    "            # Step 3: Fetch balance sheet\n",
    "            balance_url = f\"{base_url}/balance-sheet-statement/?symbol={symbol}&apikey={api_key}\"\n",
    "            balance_data = fetch_json(balance_url)[0]\n",
    "\n",
    "            # Step 4: Fetch enterprise value\n",
    "            ev_url = f\"{base_url}/enterprise-values/?symbol={symbol}&apikey={api_key}\"\n",
    "            ev_data = fetch_json(ev_url)[0]\n",
    "\n",
    "            # Extract needed values\n",
    "            ebit = income_data.get('ebit')\n",
    "            revenue = income_data.get('revenue')\n",
    "            total_assets = balance_data.get('totalAssets')\n",
    "            current_liabilities = balance_data.get('totalCurrentLiabilities')\n",
    "            enterprise_value = ev_data.get('enterpriseValue')\n",
    "\n",
    "            net_income = income_data.get('netIncome')\n",
    "            if net_income is None or net_income <= 0:\n",
    "                continue\n",
    "\n",
    "            # Check for missing data\n",
    "            if None in (ebit, revenue, total_assets, current_liabilities, enterprise_value):\n",
    "                print(f\"missing data for {symbol}\")\n",
    "                continue\n",
    "\n",
    "            # Apply EBIT margin constraint\n",
    "            ebit_margin = ebit / revenue\n",
    "            if ebit_margin < minimum_margin:\n",
    "                continue\n",
    "\n",
    "            # Calculate metrics\n",
    "            earnings_yield = ebit / enterprise_value\n",
    "            capital = total_assets - current_liabilities\n",
    "            if capital <= 0:\n",
    "                continue\n",
    "            return_on_capital = ebit / capital\n",
    "\n",
    "            results.append({\n",
    "                'symbol': symbol,\n",
    "                'ebit_margin': ebit_margin,\n",
    "                'earnings_yield': earnings_yield,\n",
    "                'return_on_capital': return_on_capital\n",
    "            })\n",
    "\n",
    "        except Exception as e:\n",
    "            print(f'Symbol: {symbol}\\n')\n",
    "            print(e)\n",
    "\n",
    "    # Step 5: Create DataFrame and rank\n",
    "    df = pd.DataFrame(results)\n",
    "    if df.empty:\n",
    "        return df\n",
    "\n",
    "    df['ey_rank'] = df['earnings_yield'].rank(ascending=False)\n",
    "    df['roc_rank'] = df['return_on_capital'].rank(ascending=False)\n",
    "    df['combined_rank'] = df['ey_rank'] + df['roc_rank']\n",
    "    df_sorted = df.sort_values(by='combined_rank')\n",
    "\n",
    "    return df_sorted[['symbol', 'ebit_margin', 'earnings_yield', 'return_on_capital', 'combined_rank']]"
   ]
  },
  {
   "cell_type": "code",
   "execution_count": null,
   "id": "fb314d09-f460-447d-ad71-ca056a171d01",
   "metadata": {},
   "outputs": [
    {
     "name": "stderr",
     "output_type": "stream",
     "text": [
      "Processing symbols:   1%|▋                                                            | 11/1012 [00:05<06:22,  2.62it/s]"
     ]
    },
    {
     "name": "stdout",
     "output_type": "stream",
     "text": [
      "Symbol: BRKB\n",
      "\n",
      "'<' not supported between instances of 'NoneType' and 'int'\n"
     ]
    },
    {
     "name": "stderr",
     "output_type": "stream",
     "text": [
      "Processing symbols:  13%|████████                                                    | 135/1012 [01:28<04:16,  3.42it/s]"
     ]
    }
   ],
   "source": [
    "\n",
    "symbols = pd.read_csv(\"russel1000.csv\")\n",
    "symbols = symbols['Ticker'].to_list()\n",
    "\n",
    "top_stocks = get_magic_formula(api_key, symbols, minimum_margin=0.15)\n",
    "print(top_stocks)\n",
    "russel1000_filtered = top_stocks"
   ]
  },
  {
   "cell_type": "code",
   "execution_count": null,
   "id": "89cf78d5-acc4-4bea-851c-790a3f69e80c",
   "metadata": {},
   "outputs": [],
   "source": [
    "symbols = pd.read_csv(\"all_listed_companies.csv\")\n",
    "symbols = symbols['Symbol'].to_list()\n",
    "\n",
    "top_stocks = get_magic_formula(api_key, symbols)\n",
    "print(top_stocks)\n",
    "world_filtered = top_stocks"
   ]
  },
  {
   "cell_type": "markdown",
   "id": "29762291-849a-4e72-be2b-3022d0ca45f0",
   "metadata": {},
   "source": [
    "## Tests"
   ]
  },
  {
   "cell_type": "code",
   "execution_count": 58,
   "id": "da3d963a-0227-445b-9c81-72ff83da7c28",
   "metadata": {},
   "outputs": [],
   "source": [
    "base_url = \"https://financialmodelingprep.com/stable\"\n",
    "api_key = 'mRup6c6gbK2tGlpqfxoDmrm9SyEsMEjC'\n",
    "profile_url = f\"{base_url}/enterprise-values?symbol=JPM&apikey={api_key}\"\n",
    "response = requests.get(profile_url)\n",
    "response.raise_for_status()\n",
    "profile_data = response.json()"
   ]
  },
  {
   "cell_type": "code",
   "execution_count": 62,
   "id": "d7b9affd-cb8f-47e5-b6d7-2359421b0191",
   "metadata": {},
   "outputs": [
    {
     "data": {
      "text/plain": [
       "{'symbol': 'JPM',\n",
       " 'date': '2024-12-31',\n",
       " 'stockPrice': 239.71,\n",
       " 'numberOfShares': 2873900000,\n",
       " 'marketCapitalization': 688902569000,\n",
       " 'minusCashAndCashEquivalents': 469317000000,\n",
       " 'addTotalDebt': 454311000000,\n",
       " 'enterpriseValue': 673896569000}"
      ]
     },
     "execution_count": 62,
     "metadata": {},
     "output_type": "execute_result"
    }
   ],
   "source": [
    "profile_data[0]"
   ]
  },
  {
   "cell_type": "code",
   "execution_count": null,
   "id": "fbcab78b-9675-4ec1-a70c-d0b7b5c96d74",
   "metadata": {},
   "outputs": [],
   "source": [
    "top_stocks"
   ]
  },
  {
   "cell_type": "code",
   "execution_count": null,
   "id": "d91ef964-36a4-4abb-b261-c40e27f15bfd",
   "metadata": {},
   "outputs": [],
   "source": []
  }
 ],
 "metadata": {
  "kernelspec": {
   "display_name": "Python 3 (ipykernel)",
   "language": "python",
   "name": "python3"
  },
  "language_info": {
   "codemirror_mode": {
    "name": "ipython",
    "version": 3
   },
   "file_extension": ".py",
   "mimetype": "text/x-python",
   "name": "python",
   "nbconvert_exporter": "python",
   "pygments_lexer": "ipython3",
   "version": "3.10.16"
  }
 },
 "nbformat": 4,
 "nbformat_minor": 5
}
