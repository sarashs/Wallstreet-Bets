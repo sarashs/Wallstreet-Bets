{
 "cells": [
  {
   "cell_type": "markdown",
   "id": "da2c450e-9cc4-47c4-90a8-427791123793",
   "metadata": {},
   "source": [
    "# Greenblatt Magic formula\n",
    "\n",
    "## The Magic Formula: Explanation and Formula\n",
    "\n",
    "The **Magic Formula** is an investment strategy developed by **Joel Greenblatt** to identify high-quality companies that are also undervalued. It ranks companies based on two key financial ratios:\n",
    "\n",
    "---\n",
    "\n",
    "## 📌 Core Idea\n",
    "\n",
    "> **Buy good companies at cheap prices.**\n",
    "\n",
    "The strategy identifies:\n",
    "- **\"Good companies\"** → those with high returns on capital (efficient use of capital).\n",
    "- **\"Cheap companies\"** → those with high earnings yield (undervalued based on operating profits).\n",
    "\n",
    "---\n",
    "\n",
    "## 🧮 The Formula\n",
    "\n",
    "1. **Earnings Yield (EY):**\n",
    "$$\n",
    "\\text{Earnings Yield} = \\frac{\\text{EBIT}}{\\text{Enterprise Value}}\n",
    "$$\n",
    "- Measures how cheap the stock is.\n",
    "- EBIT = Earnings Before Interest and Taxes\n",
    "- Enterprise Value = Market Cap + Debt - Cash\n",
    "\n",
    "2. **Return on Capital (ROC):**\n",
    "$$\n",
    "\\text{Return on Capital} = \\frac{\\text{EBIT}}{\\text{Net Working Capital} + \\text{Net Fixed Assets}}\n",
    "$$\n",
    "- Measures the quality of the business (how efficiently it uses its capital).\n",
    "\n",
    "---\n",
    "\n",
    "## 🔍 Implementation Steps\n",
    "\n",
    "1. **Filter the universe**: Remove financials, utilities, and companies with very small market cap.\n",
    "2. **Rank all remaining stocks** by:\n",
    "   - Earnings Yield (high = better)\n",
    "   - Return on Capital (high = better)\n",
    "3. **Compute combined rank**:\n",
    "   $$\n",
    "   \\text{Combined Rank} = \\text{Rank}_{EY} + \\text{Rank}_{ROC}\n",
    "   $$\n",
    "4. **Sort by Combined Rank** (lowest = best overall).\n",
    "5. **Pick top N stocks** (e.g., top 20–30).\n",
    "6. **Hold for 1 year**, rebalance annually.\n",
    "\n",
    "---\n",
    "\n",
    "## ✅ Why It Works\n",
    "\n",
    "- Avoids paying too much for popular stocks.\n",
    "- Focuses on operationally efficient, consistently profitable companies.\n",
    "- Enforces a disciplined, rules-based approach.\n",
    "\n",
    "---\n",
    "\n",
    "## ⚠️ Notes and Caveats\n",
    "\n",
    "- Avoids subjective judgement; however, **screening accuracy** depends on **quality of financial data**.\n",
    "- May underperform in short-term or irrational markets.\n",
    "- Works best over a multi-year horizon (3–5+ years).\n",
    "- I have added a minimum 40% margin restriction to the original formula. \n",
    "\n",
    "---\n"
   ]
  },
  {
   "cell_type": "code",
   "execution_count": 1,
   "id": "51197021-515e-4963-a7b7-3a8075cc3eb6",
   "metadata": {},
   "outputs": [],
   "source": [
    "import os\n",
    "from tenacity import retry, stop_after_attempt, wait_exponential\n",
    "import requests\n",
    "import pandas as pd\n",
    "from tqdm import tqdm\n",
    "\n",
    "api_key = os.getenv('financial_modeling_prep_api_key')\n",
    "assert api_key is not None"
   ]
  },
  {
   "cell_type": "code",
   "execution_count": 10,
   "id": "7da2bbc2-aec9-45a8-9bce-1095fb3281a6",
   "metadata": {},
   "outputs": [],
   "source": [
    "\n",
    "\n",
    "# Retry settings: 5 attempts with exponential backoff\n",
    "@retry(stop=stop_after_attempt(5), wait=wait_exponential(multiplier=1, min=10, max=60))\n",
    "def fetch_json(url):\n",
    "    response = requests.get(url)\n",
    "    response.raise_for_status()\n",
    "    return response.json()\n",
    "\n",
    "def get_magic_formula(api_key, symbols, minimum_margin=0.4, minimum_marketcap=500_000_000, minimum_revenue=100_000_000):\n",
    "    import pandas as pd\n",
    "    from tqdm import tqdm\n",
    "\n",
    "    base_url = \"https://financialmodelingprep.com/stable\"\n",
    "    results = []\n",
    "\n",
    "    for symbol in tqdm(symbols, desc=\"Processing symbols\"):\n",
    "        try:\n",
    "            # Step 1: Check market cap\n",
    "            profile_url = f\"{base_url}/enterprise-values?symbol={symbol}&apikey={api_key}\"\n",
    "            profile_data = fetch_json(profile_url)\n",
    "            if not profile_data or profile_data[0].get('marketCapitalization') < minimum_marketcap:\n",
    "                continue\n",
    "\n",
    "            # Step 2: Exclude financials and real estate sectors\n",
    "            profile_url = f\"{base_url}/search-exchange-variants?symbol={symbol}&apikey={api_key}\"\n",
    "            profile_data = fetch_json(profile_url)\n",
    "            if not profile_data or profile_data[0].get('sector') in ['Financial Services', 'Real Estate']:\n",
    "                continue\n",
    "\n",
    "            # Step 3: Fetch income statement\n",
    "            income_url = f\"{base_url}/income-statement/?symbol={symbol}&apikey={api_key}\"\n",
    "            income_data = fetch_json(income_url)[0]\n",
    "\n",
    "            # Step 4: Fetch balance sheet\n",
    "            balance_url = f\"{base_url}/balance-sheet-statement/?symbol={symbol}&apikey={api_key}\"\n",
    "            balance_data = fetch_json(balance_url)[0]\n",
    "\n",
    "            # Step 5: Fetch enterprise value\n",
    "            ev_url = f\"{base_url}/enterprise-values/?symbol={symbol}&apikey={api_key}\"\n",
    "            ev_data = fetch_json(ev_url)[0]\n",
    "\n",
    "            # Extract relevant fields\n",
    "            ebit = income_data.get('ebit')\n",
    "            revenue = income_data.get('revenue')\n",
    "            total_assets = balance_data.get('totalAssets')\n",
    "            current_liabilities = balance_data.get('totalCurrentLiabilities')\n",
    "            enterprise_value = ev_data.get('enterpriseValue')\n",
    "            net_income = income_data.get('netIncome')\n",
    "            operating_expenses = income_data.get('operatingExpenses')\n",
    "            other_expenses = income_data.get('otherExpenses')\n",
    "\n",
    "            # Skip if net income is non-positive\n",
    "            if net_income is None or net_income <= 0:\n",
    "                continue\n",
    "\n",
    "            # Ensure all required fields are present\n",
    "            if None in (ebit, revenue, total_assets, current_liabilities, enterprise_value):\n",
    "                print(f\"missing data for {symbol}\")\n",
    "                continue\n",
    "\n",
    "            # Filter: minimum revenue\n",
    "            if revenue < minimum_revenue:\n",
    "                continue\n",
    "\n",
    "            # Filter: operating expenses must be non-negative\n",
    "            if operating_expenses is not None and operating_expenses < 0:\n",
    "                continue\n",
    "\n",
    "            # Filter: exclude extreme accounting adjustments\n",
    "            if other_expenses is not None and other_expenses < -revenue:\n",
    "                continue\n",
    "\n",
    "            # Filter: remove absurdly high EBIT margins (e.g., > 200%)\n",
    "            ebit_margin = ebit / revenue\n",
    "            if ebit_margin < minimum_margin or ebit_margin > 2:\n",
    "                continue\n",
    "\n",
    "            # Compute Greenblatt metrics\n",
    "            earnings_yield = ebit / enterprise_value\n",
    "            capital = total_assets - current_liabilities\n",
    "            if capital <= 0:\n",
    "                continue\n",
    "            return_on_capital = ebit / capital\n",
    "\n",
    "            # Append result\n",
    "            results.append({\n",
    "                'symbol': symbol,\n",
    "                'ebit_margin': ebit_margin,\n",
    "                'earnings_yield': earnings_yield,\n",
    "                'return_on_capital': return_on_capital\n",
    "            })\n",
    "\n",
    "        except Exception as e:\n",
    "            print(f'Symbol: {symbol}\\n')\n",
    "            print(e)\n",
    "\n",
    "    # Step 6: Compile DataFrame and rank\n",
    "    df = pd.DataFrame(results)\n",
    "    if df.empty:\n",
    "        return df\n",
    "\n",
    "    df['ey_rank'] = df['earnings_yield'].rank(ascending=False)\n",
    "    df['roc_rank'] = df['return_on_capital'].rank(ascending=False)\n",
    "    df['combined_rank'] = df['ey_rank'] + df['roc_rank']\n",
    "    df_sorted = df.sort_values(by='combined_rank')\n",
    "\n",
    "    return df_sorted[['symbol', 'ebit_margin', 'earnings_yield', 'return_on_capital', 'combined_rank']]\n"
   ]
  },
  {
   "cell_type": "code",
   "execution_count": 11,
   "id": "fb314d09-f460-447d-ad71-ca056a171d01",
   "metadata": {},
   "outputs": [
    {
     "name": "stderr",
     "output_type": "stream",
     "text": [
      "Processing symbols:   1%|▋                                                            | 11/1012 [00:05<07:42,  2.16it/s]"
     ]
    },
    {
     "name": "stdout",
     "output_type": "stream",
     "text": [
      "Symbol: BRKB\n",
      "\n",
      "'<' not supported between instances of 'NoneType' and 'int'\n"
     ]
    },
    {
     "name": "stderr",
     "output_type": "stream",
     "text": [
      "Processing symbols:  82%|█████████████████████████████████████████████████▎          | 832/1012 [09:35<00:44,  4.05it/s]"
     ]
    },
    {
     "name": "stdout",
     "output_type": "stream",
     "text": [
      "Symbol: BFB\n",
      "\n",
      "'<' not supported between instances of 'NoneType' and 'int'\n"
     ]
    },
    {
     "name": "stderr",
     "output_type": "stream",
     "text": [
      "Processing symbols:  97%|██████████████████████████████████████████████████████████▏ | 982/1012 [11:21<00:10,  2.90it/s]"
     ]
    },
    {
     "name": "stdout",
     "output_type": "stream",
     "text": [
      "Symbol: BFA\n",
      "\n",
      "'<' not supported between instances of 'NoneType' and 'int'\n"
     ]
    },
    {
     "name": "stderr",
     "output_type": "stream",
     "text": [
      "Processing symbols:  98%|██████████████████████████████████████████████████████████▋ | 989/1012 [11:24<00:09,  2.40it/s]"
     ]
    },
    {
     "name": "stdout",
     "output_type": "stream",
     "text": [
      "Symbol: LENB\n",
      "\n",
      "'<' not supported between instances of 'NoneType' and 'int'\n"
     ]
    },
    {
     "name": "stderr",
     "output_type": "stream",
     "text": [
      "Processing symbols: 100%|███████████████████████████████████████████████████████████| 1012/1012 [11:30<00:00,  1.47it/s]"
     ]
    },
    {
     "name": "stdout",
     "output_type": "stream",
     "text": [
      "    symbol  ebit_margin  earnings_yield  return_on_capital  combined_rank\n",
      "56      MO     0.723048        0.132416           0.560009           16.0\n",
      "212   BBWI     0.183386        0.106695           0.368031           45.0\n",
      "216    HRB     0.233053        0.102539           0.375378           48.0\n",
      "236  LBRDA     1.255906        0.089240           0.379649           53.0\n",
      "204  LBRDK     1.255906        0.089240           0.379649           53.0\n",
      "..     ...          ...             ...                ...            ...\n",
      "120    FIS     0.162733        0.029762           0.059516          422.0\n",
      "92     SRE     0.239590        0.035089           0.036529          424.0\n",
      "232   CWEN     0.199854        0.026133           0.020131          453.0\n",
      "226     AL     0.215126        0.023425           0.019051          458.0\n",
      "51     ADI     0.222715        0.017863           0.046410          461.0\n",
      "\n",
      "[238 rows x 5 columns]\n"
     ]
    },
    {
     "name": "stderr",
     "output_type": "stream",
     "text": [
      "\n"
     ]
    }
   ],
   "source": [
    "\n",
    "symbols = pd.read_csv(\"russel1000.csv\")\n",
    "symbols = symbols['Ticker'].to_list()\n",
    "\n",
    "top_stocks = get_magic_formula(api_key, symbols, minimum_margin=0.15)\n",
    "print(top_stocks)\n",
    "russel1000_filtered = top_stocks"
   ]
  },
  {
   "cell_type": "code",
   "execution_count": 12,
   "id": "603d8373-9eff-4ba1-9276-112feba415ea",
   "metadata": {},
   "outputs": [
    {
     "data": {
      "text/html": [
       "<div>\n",
       "<style scoped>\n",
       "    .dataframe tbody tr th:only-of-type {\n",
       "        vertical-align: middle;\n",
       "    }\n",
       "\n",
       "    .dataframe tbody tr th {\n",
       "        vertical-align: top;\n",
       "    }\n",
       "\n",
       "    .dataframe thead th {\n",
       "        text-align: right;\n",
       "    }\n",
       "</style>\n",
       "<table border=\"1\" class=\"dataframe\">\n",
       "  <thead>\n",
       "    <tr style=\"text-align: right;\">\n",
       "      <th></th>\n",
       "      <th>symbol</th>\n",
       "      <th>ebit_margin</th>\n",
       "      <th>earnings_yield</th>\n",
       "      <th>return_on_capital</th>\n",
       "      <th>combined_rank</th>\n",
       "    </tr>\n",
       "  </thead>\n",
       "  <tbody>\n",
       "    <tr>\n",
       "      <th>56</th>\n",
       "      <td>MO</td>\n",
       "      <td>0.723048</td>\n",
       "      <td>0.132416</td>\n",
       "      <td>0.560009</td>\n",
       "      <td>16.0</td>\n",
       "    </tr>\n",
       "    <tr>\n",
       "      <th>212</th>\n",
       "      <td>BBWI</td>\n",
       "      <td>0.183386</td>\n",
       "      <td>0.106695</td>\n",
       "      <td>0.368031</td>\n",
       "      <td>45.0</td>\n",
       "    </tr>\n",
       "    <tr>\n",
       "      <th>216</th>\n",
       "      <td>HRB</td>\n",
       "      <td>0.233053</td>\n",
       "      <td>0.102539</td>\n",
       "      <td>0.375378</td>\n",
       "      <td>48.0</td>\n",
       "    </tr>\n",
       "    <tr>\n",
       "      <th>236</th>\n",
       "      <td>LBRDA</td>\n",
       "      <td>1.255906</td>\n",
       "      <td>0.089240</td>\n",
       "      <td>0.379649</td>\n",
       "      <td>53.0</td>\n",
       "    </tr>\n",
       "    <tr>\n",
       "      <th>204</th>\n",
       "      <td>LBRDK</td>\n",
       "      <td>1.255906</td>\n",
       "      <td>0.089240</td>\n",
       "      <td>0.379649</td>\n",
       "      <td>53.0</td>\n",
       "    </tr>\n",
       "    <tr>\n",
       "      <th>157</th>\n",
       "      <td>PHM</td>\n",
       "      <td>0.223233</td>\n",
       "      <td>0.170498</td>\n",
       "      <td>0.252484</td>\n",
       "      <td>54.0</td>\n",
       "    </tr>\n",
       "    <tr>\n",
       "      <th>108</th>\n",
       "      <td>FAST</td>\n",
       "      <td>0.200822</td>\n",
       "      <td>0.072772</td>\n",
       "      <td>0.377820</td>\n",
       "      <td>73.0</td>\n",
       "    </tr>\n",
       "    <tr>\n",
       "      <th>208</th>\n",
       "      <td>SCCO</td>\n",
       "      <td>0.497796</td>\n",
       "      <td>0.076748</td>\n",
       "      <td>0.345664</td>\n",
       "      <td>74.0</td>\n",
       "    </tr>\n",
       "    <tr>\n",
       "      <th>94</th>\n",
       "      <td>CMI</td>\n",
       "      <td>0.154624</td>\n",
       "      <td>0.097461</td>\n",
       "      <td>0.259677</td>\n",
       "      <td>76.0</td>\n",
       "    </tr>\n",
       "    <tr>\n",
       "      <th>174</th>\n",
       "      <td>MAS</td>\n",
       "      <td>0.160961</td>\n",
       "      <td>0.068477</td>\n",
       "      <td>0.364583</td>\n",
       "      <td>84.0</td>\n",
       "    </tr>\n",
       "  </tbody>\n",
       "</table>\n",
       "</div>"
      ],
      "text/plain": [
       "    symbol  ebit_margin  earnings_yield  return_on_capital  combined_rank\n",
       "56      MO     0.723048        0.132416           0.560009           16.0\n",
       "212   BBWI     0.183386        0.106695           0.368031           45.0\n",
       "216    HRB     0.233053        0.102539           0.375378           48.0\n",
       "236  LBRDA     1.255906        0.089240           0.379649           53.0\n",
       "204  LBRDK     1.255906        0.089240           0.379649           53.0\n",
       "157    PHM     0.223233        0.170498           0.252484           54.0\n",
       "108   FAST     0.200822        0.072772           0.377820           73.0\n",
       "208   SCCO     0.497796        0.076748           0.345664           74.0\n",
       "94     CMI     0.154624        0.097461           0.259677           76.0\n",
       "174    MAS     0.160961        0.068477           0.364583           84.0"
      ]
     },
     "execution_count": 12,
     "metadata": {},
     "output_type": "execute_result"
    }
   ],
   "source": [
    "russel1000_filtered.head(10)"
   ]
  },
  {
   "cell_type": "code",
   "execution_count": null,
   "id": "89cf78d5-acc4-4bea-851c-790a3f69e80c",
   "metadata": {},
   "outputs": [
    {
     "name": "stderr",
     "output_type": "stream",
     "text": [
      "Processing symbols:   0%|▏                                                           | 27/11327 [00:04<27:09,  6.93it/s]"
     ]
    }
   ],
   "source": [
    "symbols = pd.read_csv(\"all_listed_companies.csv\")\n",
    "symbols = symbols['Symbol'].to_list()\n",
    "\n",
    "top_stocks = get_magic_formula(api_key, symbols, minimum_margin=0.15)\n",
    "print(top_stocks)\n",
    "world_filtered = top_stocks"
   ]
  },
  {
   "cell_type": "code",
   "execution_count": null,
   "id": "8eaf6657-1032-4857-8256-fb98b526335e",
   "metadata": {},
   "outputs": [],
   "source": [
    "world_filtered.head(20)"
   ]
  },
  {
   "cell_type": "markdown",
   "id": "29762291-849a-4e72-be2b-3022d0ca45f0",
   "metadata": {},
   "source": [
    "## Tests"
   ]
  },
  {
   "cell_type": "code",
   "execution_count": 8,
   "id": "da3d963a-0227-445b-9c81-72ff83da7c28",
   "metadata": {},
   "outputs": [],
   "source": [
    "base_url = \"https://financialmodelingprep.com/stable\"\n",
    "profile_url = f\"{base_url}/income-statement?symbol=ROIV&apikey={api_key}\"\n",
    "response = requests.get(profile_url)\n",
    "response.raise_for_status()\n",
    "profile_data = response.json()"
   ]
  },
  {
   "cell_type": "code",
   "execution_count": 9,
   "id": "d7b9affd-cb8f-47e5-b6d7-2359421b0191",
   "metadata": {},
   "outputs": [
    {
     "data": {
      "text/plain": [
       "{'date': '2024-03-31',\n",
       " 'symbol': 'ROIV',\n",
       " 'reportedCurrency': 'USD',\n",
       " 'cik': '0001635088',\n",
       " 'filingDate': '2024-05-30',\n",
       " 'acceptedDate': '2024-05-30 16:46:54',\n",
       " 'fiscalYear': '2023',\n",
       " 'period': 'FY',\n",
       " 'revenue': 124795000,\n",
       " 'costOfRevenue': 27964000,\n",
       " 'grossProfit': 96831000,\n",
       " 'researchAndDevelopmentExpenses': 501736000,\n",
       " 'generalAndAdministrativeExpenses': 0,\n",
       " 'sellingAndMarketingExpenses': 0,\n",
       " 'sellingGeneralAndAdministrativeExpenses': 675039000,\n",
       " 'otherExpenses': -5321960000,\n",
       " 'operatingExpenses': -4132781000,\n",
       " 'costAndExpenses': -4117221000,\n",
       " 'netInterestIncome': 111647000,\n",
       " 'interestIncome': 146425000,\n",
       " 'interestExpense': 34778000,\n",
       " 'depreciationAndAmortization': 22036000,\n",
       " 'ebitda': 4310244000,\n",
       " 'ebit': 4288208000,\n",
       " 'nonOperatingIncomeExcludingInterest': -46192000,\n",
       " 'operatingIncome': 4242016000,\n",
       " 'totalOtherIncomeExpensesNet': 11414000,\n",
       " 'incomeBeforeTax': 4253430000,\n",
       " 'incomeTaxExpense': 22224000,\n",
       " 'netIncomeFromContinuingOperations': 4231206000,\n",
       " 'netIncomeFromDiscontinuedOperations': 0,\n",
       " 'otherAdjustmentsToNetIncome': 0,\n",
       " 'netIncome': 4348926000,\n",
       " 'netIncomeDeductions': 0,\n",
       " 'bottomLineNetIncome': 4348926000,\n",
       " 'eps': 5.55,\n",
       " 'epsDiluted': 5.23,\n",
       " 'weightedAverageShsOut': 783248906,\n",
       " 'weightedAverageShsOutDil': 831049444}"
      ]
     },
     "execution_count": 9,
     "metadata": {},
     "output_type": "execute_result"
    }
   ],
   "source": [
    "profile_data[0]"
   ]
  },
  {
   "cell_type": "code",
   "execution_count": null,
   "id": "fbcab78b-9675-4ec1-a70c-d0b7b5c96d74",
   "metadata": {},
   "outputs": [],
   "source": [
    "top_stocks"
   ]
  },
  {
   "cell_type": "code",
   "execution_count": null,
   "id": "d91ef964-36a4-4abb-b261-c40e27f15bfd",
   "metadata": {},
   "outputs": [],
   "source": []
  }
 ],
 "metadata": {
  "kernelspec": {
   "display_name": "Python 3 (ipykernel)",
   "language": "python",
   "name": "python3"
  },
  "language_info": {
   "codemirror_mode": {
    "name": "ipython",
    "version": 3
   },
   "file_extension": ".py",
   "mimetype": "text/x-python",
   "name": "python",
   "nbconvert_exporter": "python",
   "pygments_lexer": "ipython3",
   "version": "3.10.16"
  }
 },
 "nbformat": 4,
 "nbformat_minor": 5
}
