{
 "cells": [
  {
   "cell_type": "markdown",
   "id": "da2c450e-9cc4-47c4-90a8-427791123793",
   "metadata": {},
   "source": [
    "# Greenblatt Magic formula\n",
    "\n",
    "## The Magic Formula: Explanation and Formula\n",
    "\n",
    "The **Magic Formula** is an investment strategy developed by **Joel Greenblatt** to identify high-quality companies that are also undervalued. It ranks companies based on two key financial ratios:\n",
    "\n",
    "---\n",
    "\n",
    "## 📌 Core Idea\n",
    "\n",
    "> **Buy good companies at cheap prices.**\n",
    "\n",
    "The strategy identifies:\n",
    "- **\"Good companies\"** → those with high returns on capital (efficient use of capital).\n",
    "- **\"Cheap companies\"** → those with high earnings yield (undervalued based on operating profits).\n",
    "\n",
    "---\n",
    "\n",
    "## 🧮 The original Formula\n",
    "\n",
    "1. **Earnings Yield (EY):**\n",
    "$$\n",
    "\\text{Earnings Yield} = \\frac{\\text{EBIT}}{\\text{Enterprise Value}}\n",
    "$$\n",
    "- Measures how cheap the stock is.\n",
    "- EBIT = Earnings Before Interest and Taxes\n",
    "- Enterprise Value = Market Cap + Debt - Cash\n",
    "\n",
    "2. **Return on Capital (ROC):**\n",
    "$$\n",
    "\\text{Return on Capital} = \\frac{\\text{EBIT}}{\\text{Net Working Capital} + \\text{Net Fixed Assets}}\n",
    "$$\n",
    "- Measures the quality of the business (how efficiently it uses its capital).\n",
    "### My filters\n",
    "1. Add minimum revenue\n",
    "2. Skip if net income is non-positive\n",
    "3. Skip (net_income > 0 and cashflow < 0) or (net_income < 0 and cashflow > 0)\n",
    "4. Operating expenses must be non-negative\n",
    "5. Exclude extreme accounting adjustments (per filteration in the code)\n",
    "6. Remove absurdly high EBIT margins (e.g., > 200%)\n",
    "---\n",
    "\n",
    "## 🔍 Implementation Steps\n",
    "\n",
    "1. **Filter the universe**: Remove financials, utilities, and companies with very small market cap.\n",
    "2. **Rank all remaining stocks** by:\n",
    "   - Earnings Yield (high = better)\n",
    "   - Return on Capital (high = better)\n",
    "3. **Compute combined rank**:\n",
    "   $$\n",
    "   \\text{Combined Rank} = \\text{Rank}_{EY} + \\text{Rank}_{ROC}\n",
    "   $$\n",
    "4. **Sort by Combined Rank** (lowest = best overall).\n",
    "5. **Pick top N stocks** (e.g., top 20–30).\n",
    "6. **Hold for 1 year**, rebalance annually.\n",
    "\n",
    "---\n",
    "\n",
    "## ✅ Why It Works\n",
    "\n",
    "- Avoids paying too much for popular stocks.\n",
    "- Focuses on operationally efficient, consistently profitable companies.\n",
    "- Enforces a disciplined, rules-based approach.\n",
    "\n",
    "---\n",
    "\n",
    "## ⚠️ Notes and Caveats\n",
    "\n",
    "- Avoids subjective judgement; however, **screening accuracy** depends on **quality of financial data**.\n",
    "- May underperform in short-term or irrational markets.\n",
    "- Works best over a multi-year horizon (3–5+ years).\n",
    "- I have separated this into US and International stocks.\n",
    "---\n"
   ]
  },
  {
   "cell_type": "code",
   "execution_count": 1,
   "id": "51197021-515e-4963-a7b7-3a8075cc3eb6",
   "metadata": {},
   "outputs": [],
   "source": [
    "import os\n",
    "from tenacity import retry, stop_after_attempt, wait_exponential\n",
    "import requests\n",
    "import pandas as pd\n",
    "from tqdm import tqdm\n",
    "\n",
    "api_key = os.getenv('financial_modeling_prep_api_key')\n",
    "assert api_key is not None"
   ]
  },
  {
   "cell_type": "code",
   "execution_count": 2,
   "id": "7da2bbc2-aec9-45a8-9bce-1095fb3281a6",
   "metadata": {},
   "outputs": [],
   "source": [
    "# Retry settings: 5 attempts with exponential backoff\n",
    "@retry(stop=stop_after_attempt(5), wait=wait_exponential(multiplier=1, min=10, max=60))\n",
    "def fetch_json(url):\n",
    "    response = requests.get(url)\n",
    "    response.raise_for_status()\n",
    "    return response.json()\n",
    "\n",
    "def get_magic_formula(api_key, symbols, minimum_margin=0.4, minimum_marketcap=500_000_000, minimum_revenue=100_000_000):\n",
    "    import pandas as pd\n",
    "    from tqdm import tqdm\n",
    "\n",
    "    base_url = \"https://financialmodelingprep.com/stable\"\n",
    "    results = []\n",
    "\n",
    "    for symbol in tqdm(symbols, desc=\"Processing symbols\"):\n",
    "        try:\n",
    "            # Step 1: Check market cap\n",
    "            ev_url = f\"{base_url}/enterprise-values/?symbol={symbol}&apikey={api_key}\"\n",
    "            ev_data = fetch_json(ev_url)[0]\n",
    "            market_cap = ev_data.get('marketCapitalization')  \n",
    "            \n",
    "            if not ev_data or market_cap < minimum_marketcap:\n",
    "                continue\n",
    "\n",
    "            # Step 2: Exclude financials and real estate sectors\n",
    "            profile_url = f\"{base_url}/profile?symbol={symbol}&apikey={api_key}\"\n",
    "            profile_data = fetch_json(profile_url)\n",
    "            sector = profile_data[0].get('sector') \n",
    "            company_name = profile_data[0].get('companyName')\n",
    "            \n",
    "            if not profile_data or sector in ['Financial Services', 'Real Estate']:\n",
    "                continue\n",
    "\n",
    "            # Step 3: Fetch income statement\n",
    "            income_url = f\"{base_url}/income-statement/?symbol={symbol}&apikey={api_key}\"\n",
    "            income_data = fetch_json(income_url)[0]\n",
    "            net_income = income_data.get('netIncome')\n",
    "            revenue = income_data.get('revenue')\n",
    "\n",
    "            # Filter: minimum revenue\n",
    "            if revenue < minimum_revenue:\n",
    "                continue\n",
    "\n",
    "            # Skip if net income is non-positive (net_income > 0 and cashflow < 0) or (net_income < 0 and cashflow > 0)\n",
    "            if net_income is None or net_income <= 0:\n",
    "                continue\n",
    "\n",
    "            cash_url = f\"{base_url}/cash-flow-statement/?symbol={symbol}&apikey={api_key}\"\n",
    "            cash_data = fetch_json(cash_url)[0]\n",
    "            cashflow = cash_data['operatingCashFlow']\n",
    "            \n",
    "            #if abs(net_income - cashflow) > 0.5 * net_income:\n",
    "            if (net_income > 0 and cashflow < 0) or (net_income < 0 and cashflow > 0):\n",
    "                print(f\"Cashflow mismatch for {symbol}\")\n",
    "                continue  # net income not supported by cash flow\n",
    "\n",
    "            # Step 4: Fetch balance sheet\n",
    "            balance_url = f\"{base_url}/balance-sheet-statement/?symbol={symbol}&apikey={api_key}\"\n",
    "            balance_data = fetch_json(balance_url)[0]\n",
    "\n",
    "            # Step 5: Fetch dividend\n",
    "            dividend = f\"{base_url}/dividends/?symbol={symbol}&apikey={api_key}\"\n",
    "            dividend_data = fetch_json(dividend)\n",
    "            dividend = 0\n",
    "            if dividend_data:\n",
    "                dividend_data = dividend_data[0]\n",
    "                dividend = dividend_data.get('yield')\n",
    "                div_date = dividend_data.get('date')\n",
    "\n",
    "            # Extract relevant fields\n",
    "            ebit = income_data.get('ebit')\n",
    "            \n",
    "            total_assets = balance_data.get('totalAssets')\n",
    "            current_liabilities = balance_data.get('totalCurrentLiabilities')\n",
    "            enterprise_value = ev_data.get('enterpriseValue')\n",
    "            operating_expenses = income_data.get('operatingExpenses')\n",
    "            other_expenses = income_data.get('otherExpenses')\n",
    "\n",
    "            # Ensure all required fields are present\n",
    "            if None in (ebit, revenue, total_assets, current_liabilities, enterprise_value):\n",
    "                print(f\"missing data for {symbol}\")\n",
    "                continue\n",
    "\n",
    "            # Filter: Operating expenses must be non-negative\n",
    "            if operating_expenses is not None and operating_expenses < 0:\n",
    "                continue\n",
    "\n",
    "            # Filter: exclude extreme accounting adjustments\n",
    "            if other_expenses is not None and other_expenses < -revenue:\n",
    "                continue\n",
    "\n",
    "            # Filter: remove absurdly high EBIT margins (e.g., > 200%)\n",
    "            ebit_margin = ebit / revenue\n",
    "            if ebit_margin < minimum_margin or ebit_margin > 2:\n",
    "                continue\n",
    "\n",
    "            # Compute Greenblatt metrics\n",
    "            earnings_yield = ebit / enterprise_value\n",
    "            capital = total_assets - current_liabilities\n",
    "            if capital <= 0:\n",
    "                continue\n",
    "            return_on_capital = ebit / capital\n",
    "\n",
    "            # Append result\n",
    "            results.append({\n",
    "                'symbol': symbol,\n",
    "                'company_name': company_name,\n",
    "                'dividend': dividend,\n",
    "                'div date': div_date,\n",
    "                'sector' : sector,\n",
    "                'ebit_margin': ebit_margin,\n",
    "                'earnings_yield': earnings_yield,\n",
    "                'return_on_capital': return_on_capital\n",
    "            })\n",
    "\n",
    "        except Exception as e:\n",
    "            print(f'Symbol: {symbol}\\n')\n",
    "            print(e)\n",
    "\n",
    "    # Step 6: Compile DataFrame and rank\n",
    "    df = pd.DataFrame(results)\n",
    "    if df.empty:\n",
    "        return df\n",
    "\n",
    "    df['ey_rank'] = df['earnings_yield'].rank(ascending=False)\n",
    "    df['roc_rank'] = df['return_on_capital'].rank(ascending=False)\n",
    "    df['combined_rank'] = df['ey_rank'] + df['roc_rank']\n",
    "    df_sorted = df.sort_values(by='combined_rank')\n",
    "\n",
    "    return df_sorted #[['symbol', 'ebit_margin', 'earnings_yield', 'return_on_capital', 'combined_rank']]\n"
   ]
  },
  {
   "cell_type": "code",
   "execution_count": 3,
   "id": "fb314d09-f460-447d-ad71-ca056a171d01",
   "metadata": {},
   "outputs": [
    {
     "name": "stderr",
     "output_type": "stream",
     "text": [
      "Processing symbols:   1%|▋                                                            | 11/1012 [00:05<06:31,  2.56it/s]"
     ]
    },
    {
     "name": "stdout",
     "output_type": "stream",
     "text": [
      "Symbol: BRKB\n",
      "\n",
      "'<' not supported between instances of 'NoneType' and 'int'\n"
     ]
    },
    {
     "name": "stderr",
     "output_type": "stream",
     "text": [
      "Processing symbols:  10%|██████                                                      | 102/1012 [01:31<15:27,  1.02s/it]"
     ]
    },
    {
     "name": "stdout",
     "output_type": "stream",
     "text": [
      "Cashflow mismatch for CEG\n"
     ]
    },
    {
     "name": "stderr",
     "output_type": "stream",
     "text": [
      "Processing symbols:  13%|████████                                                    | 135/1012 [01:47<04:41,  3.12it/s]"
     ]
    },
    {
     "name": "stdout",
     "output_type": "stream",
     "text": [
      "Symbol: XTSLA\n",
      "\n",
      "list index out of range\n"
     ]
    },
    {
     "name": "stderr",
     "output_type": "stream",
     "text": [
      "Processing symbols:  22%|█████████████▏                                              | 222/1012 [03:31<31:32,  2.40s/it]"
     ]
    },
    {
     "name": "stdout",
     "output_type": "stream",
     "text": [
      "Cashflow mismatch for HOOD\n"
     ]
    },
    {
     "name": "stderr",
     "output_type": "stream",
     "text": [
      "Processing symbols:  30%|█████████████████▋                                          | 299/1012 [04:42<04:55,  2.41it/s]"
     ]
    },
    {
     "name": "stdout",
     "output_type": "stream",
     "text": [
      "Symbol: USD\n",
      "\n",
      "list index out of range\n"
     ]
    },
    {
     "name": "stderr",
     "output_type": "stream",
     "text": [
      "Processing symbols:  36%|█████████████████████▎                                      | 360/1012 [05:33<04:31,  2.40it/s]"
     ]
    },
    {
     "name": "stdout",
     "output_type": "stream",
     "text": [
      "Cashflow mismatch for SMCI\n"
     ]
    },
    {
     "name": "stderr",
     "output_type": "stream",
     "text": [
      "Processing symbols:  49%|█████████████████████████████▍                              | 496/1012 [07:53<02:54,  2.96it/s]"
     ]
    },
    {
     "name": "stdout",
     "output_type": "stream",
     "text": [
      "Symbol: HEIA\n",
      "\n",
      "list index out of range\n"
     ]
    },
    {
     "name": "stderr",
     "output_type": "stream",
     "text": [
      "Processing symbols:  61%|████████████████████████████████████▎                       | 613/1012 [09:42<02:32,  2.62it/s]"
     ]
    },
    {
     "name": "stdout",
     "output_type": "stream",
     "text": [
      "Cashflow mismatch for SRPT\n"
     ]
    },
    {
     "name": "stderr",
     "output_type": "stream",
     "text": [
      "Processing symbols:  82%|█████████████████████████████████████████████████▏          | 830/1012 [12:54<01:31,  1.99it/s]"
     ]
    },
    {
     "name": "stdout",
     "output_type": "stream",
     "text": [
      "Symbol: SGAFT\n",
      "\n",
      "list index out of range\n"
     ]
    },
    {
     "name": "stderr",
     "output_type": "stream",
     "text": [
      "Processing symbols:  82%|█████████████████████████████████████████████████▎          | 832/1012 [12:55<01:23,  2.17it/s]"
     ]
    },
    {
     "name": "stdout",
     "output_type": "stream",
     "text": [
      "Symbol: BFB\n",
      "\n",
      "'<' not supported between instances of 'NoneType' and 'int'\n"
     ]
    },
    {
     "name": "stderr",
     "output_type": "stream",
     "text": [
      "Processing symbols:  85%|███████████████████████████████████████████████████▎        | 865/1012 [13:42<01:11,  2.04it/s]"
     ]
    },
    {
     "name": "stdout",
     "output_type": "stream",
     "text": [
      "Cashflow mismatch for ROIV\n"
     ]
    },
    {
     "name": "stderr",
     "output_type": "stream",
     "text": [
      "Processing symbols:  94%|████████████████████████████████████████████████████████▎   | 949/1012 [14:50<00:23,  2.68it/s]"
     ]
    },
    {
     "name": "stdout",
     "output_type": "stream",
     "text": [
      "Cashflow mismatch for CC\n"
     ]
    },
    {
     "name": "stderr",
     "output_type": "stream",
     "text": [
      "Processing symbols:  97%|██████████████████████████████████████████████████████████▏ | 982/1012 [15:28<00:16,  1.83it/s]"
     ]
    },
    {
     "name": "stdout",
     "output_type": "stream",
     "text": [
      "Symbol: BFA\n",
      "\n",
      "'<' not supported between instances of 'NoneType' and 'int'\n"
     ]
    },
    {
     "name": "stderr",
     "output_type": "stream",
     "text": [
      "Processing symbols:  98%|██████████████████████████████████████████████████████████▋ | 990/1012 [15:32<00:09,  2.34it/s]"
     ]
    },
    {
     "name": "stdout",
     "output_type": "stream",
     "text": [
      "Symbol: LENB\n",
      "\n",
      "'<' not supported between instances of 'NoneType' and 'int'\n"
     ]
    },
    {
     "name": "stderr",
     "output_type": "stream",
     "text": [
      "Processing symbols:  99%|███████████████████████████████████████████████████████████▏| 999/1012 [15:36<00:05,  2.39it/s]"
     ]
    },
    {
     "name": "stdout",
     "output_type": "stream",
     "text": [
      "Symbol: CWENA\n",
      "\n",
      "list index out of range\n"
     ]
    },
    {
     "name": "stderr",
     "output_type": "stream",
     "text": [
      "Processing symbols: 100%|███████████████████████████████████████████████████████████| 1012/1012 [15:40<00:00,  1.08it/s]"
     ]
    },
    {
     "name": "stdout",
     "output_type": "stream",
     "text": [
      "Symbol: --\n",
      "\n",
      "list index out of range\n",
      "Symbol: FAH5\n",
      "\n",
      "list index out of range\n",
      "Symbol: ESH5\n",
      "\n",
      "list index out of range\n"
     ]
    },
    {
     "name": "stderr",
     "output_type": "stream",
     "text": [
      "\n"
     ]
    },
    {
     "name": "stdout",
     "output_type": "stream",
     "text": [
      "    symbol                  company_name  dividend    div date  \\\n",
      "77      MO            Altria Group, Inc.  6.879110  2025-06-16   \n",
      "274    JBL                    Jabil Inc.  0.192158  2025-05-15   \n",
      "437   BBWI       Bath & Body Works, Inc.  2.958580  2025-06-06   \n",
      "460    HRB               H&R Block, Inc.  2.574665  2025-06-04   \n",
      "248    PHM              PulteGroup, Inc.  0.844213  2025-06-17   \n",
      "..     ...                           ...       ...         ...   \n",
      "446    TFX         Teleflex Incorporated  1.072048  2025-05-20   \n",
      "60    GILD         Gilead Sciences, Inc.  2.861860  2025-06-13   \n",
      "495   FRPT                Freshpet, Inc.  0.000000  2025-06-05   \n",
      "551     ZI    ZoomInfo Technologies Inc.  0.000000  2025-05-15   \n",
      "38     AMD  Advanced Micro Devices, Inc.  0.027778  1995-04-28   \n",
      "\n",
      "                 sector  ebit_margin  earnings_yield  return_on_capital  \\\n",
      "77   Consumer Defensive     0.723048        0.132416           0.560009   \n",
      "274          Technology     0.066614        0.133316           0.345484   \n",
      "437   Consumer Cyclical     0.183386        0.106695           0.368031   \n",
      "460   Consumer Cyclical     0.233053        0.102539           0.375378   \n",
      "248   Consumer Cyclical     0.223233        0.170498           0.252484   \n",
      "..                  ...          ...             ...                ...   \n",
      "446          Healthcare     0.052184        0.016225           0.024660   \n",
      "60           Healthcare     0.057975        0.012638           0.035475   \n",
      "495  Consumer Defensive     0.061307        0.008149           0.040504   \n",
      "551          Technology     0.058140        0.013972           0.012140   \n",
      "38           Technology     0.073570        0.009427           0.030624   \n",
      "\n",
      "     ey_rank  roc_rank  combined_rank  \n",
      "77      16.0      10.0           26.0  \n",
      "274     15.0      44.0           59.0  \n",
      "437     35.0      38.0           73.0  \n",
      "460     41.0      35.0           76.0  \n",
      "248      5.0      82.0           87.0  \n",
      "..       ...       ...            ...  \n",
      "446    559.0     579.0         1138.0  \n",
      "60     570.0     571.0         1141.0  \n",
      "495    579.0     567.0         1146.0  \n",
      "551    566.0     586.0         1152.0  \n",
      "38     577.0     576.0         1153.0  \n",
      "\n",
      "[586 rows x 11 columns]\n"
     ]
    }
   ],
   "source": [
    "symbols = pd.read_csv(\"russel1000.csv\")\n",
    "symbols = symbols['Ticker'].to_list()\n",
    "\n",
    "top_stocks = get_magic_formula(api_key, symbols, minimum_marketcap=50_000_000, minimum_margin=0.05, minimum_revenue=0)\n",
    "\n",
    "print(top_stocks)\n",
    "russel1000_filtered = top_stocks\n",
    "russel1000_filtered.head(30).to_csv('russel1000_magic_formula.csv')"
   ]
  },
  {
   "cell_type": "code",
   "execution_count": 111,
   "id": "603d8373-9eff-4ba1-9276-112feba415ea",
   "metadata": {},
   "outputs": [
    {
     "data": {
      "text/html": [
       "<div>\n",
       "<style scoped>\n",
       "    .dataframe tbody tr th:only-of-type {\n",
       "        vertical-align: middle;\n",
       "    }\n",
       "\n",
       "    .dataframe tbody tr th {\n",
       "        vertical-align: top;\n",
       "    }\n",
       "\n",
       "    .dataframe thead th {\n",
       "        text-align: right;\n",
       "    }\n",
       "</style>\n",
       "<table border=\"1\" class=\"dataframe\">\n",
       "  <thead>\n",
       "    <tr style=\"text-align: right;\">\n",
       "      <th></th>\n",
       "      <th>symbol</th>\n",
       "      <th>company_name</th>\n",
       "      <th>dividend</th>\n",
       "      <th>sector</th>\n",
       "      <th>ebit_margin</th>\n",
       "      <th>earnings_yield</th>\n",
       "      <th>return_on_capital</th>\n",
       "      <th>ey_rank</th>\n",
       "      <th>roc_rank</th>\n",
       "      <th>combined_rank</th>\n",
       "    </tr>\n",
       "  </thead>\n",
       "  <tbody>\n",
       "  </tbody>\n",
       "</table>\n",
       "</div>"
      ],
      "text/plain": [
       "Empty DataFrame\n",
       "Columns: [symbol, company_name, dividend, sector, ebit_margin, earnings_yield, return_on_capital, ey_rank, roc_rank, combined_rank]\n",
       "Index: []"
      ]
     },
     "execution_count": 111,
     "metadata": {},
     "output_type": "execute_result"
    }
   ],
   "source": [
    "russel1000_filtered.head(30)"
   ]
  },
  {
   "cell_type": "code",
   "execution_count": null,
   "id": "89cf78d5-acc4-4bea-851c-790a3f69e80c",
   "metadata": {},
   "outputs": [],
   "source": [
    "symbols = pd.read_csv(\"all_listed_companies.csv\")\n",
    "symbols = symbols['Symbol'].to_list()\n",
    "\n",
    "top_stocks = get_magic_formula(api_key, symbols, minimum_margin=0.05)\n",
    "print(top_stocks)\n",
    "world_filtered = top_stocks\n",
    "world_filtered[~world_filtered['symbol'].isin(russel1000_filtered['symbol'].to_list())].head(30).to_csv('world_magic_formula.csv')"
   ]
  },
  {
   "cell_type": "markdown",
   "id": "29762291-849a-4e72-be2b-3022d0ca45f0",
   "metadata": {},
   "source": [
    "## Tests"
   ]
  },
  {
   "cell_type": "code",
   "execution_count": null,
   "id": "da3d963a-0227-445b-9c81-72ff83da7c28",
   "metadata": {},
   "outputs": [],
   "source": [
    "base_url = \"https://financialmodelingprep.com/stable\"\n",
    "profile_url = f\"{base_url}/price-target-consensus?symbol=NVDA&apikey={api_key}\"\n",
    "response = requests.get(profile_url)\n",
    "response.raise_for_status()\n",
    "profile_data = response.json()"
   ]
  },
  {
   "cell_type": "code",
   "execution_count": null,
   "id": "d7b9affd-cb8f-47e5-b6d7-2359421b0191",
   "metadata": {},
   "outputs": [],
   "source": [
    "profile_data[0]#['yield']"
   ]
  },
  {
   "cell_type": "code",
   "execution_count": null,
   "id": "fbcab78b-9675-4ec1-a70c-d0b7b5c96d74",
   "metadata": {},
   "outputs": [],
   "source": [
    "profile_data[0] #left tilted median bigger than average, "
   ]
  },
  {
   "cell_type": "code",
   "execution_count": null,
   "id": "ecc9c97a-abfd-4691-85ae-3ddd95ce497b",
   "metadata": {},
   "outputs": [],
   "source": []
  }
 ],
 "metadata": {
  "kernelspec": {
   "display_name": "Python 3 (ipykernel)",
   "language": "python",
   "name": "python3"
  },
  "language_info": {
   "codemirror_mode": {
    "name": "ipython",
    "version": 3
   },
   "file_extension": ".py",
   "mimetype": "text/x-python",
   "name": "python",
   "nbconvert_exporter": "python",
   "pygments_lexer": "ipython3",
   "version": "3.10.16"
  }
 },
 "nbformat": 4,
 "nbformat_minor": 5
}
